{
 "cells": [
  {
   "cell_type": "code",
   "execution_count": 2,
   "id": "4c5ead73-eb9e-47be-8e10-567770db6fc7",
   "metadata": {},
   "outputs": [
    {
     "name": "stderr",
     "output_type": "stream",
     "text": [
      "/tmp/ipykernel_794795/1882375747.py:9: DeprecationWarning: Please use `pearsonr` from the `scipy.stats` namespace, the `scipy.stats.stats` namespace is deprecated.\n",
      "  from scipy.stats.stats import pearsonr\n"
     ]
    }
   ],
   "source": [
    "import sunpy.data.sample\n",
    "from astropy.visualization import ImageNormalize, SqrtStretch\n",
    "from skimage.transform import rescale, AffineTransform, warp\n",
    "from skimage.metrics import structural_similarity as ssim\n",
    "from astropy.coordinates import EarthLocation, SkyCoord\n",
    "from datetime import date, datetime, timedelta\n",
    "import sunpy.visualization.colormaps as cm\n",
    "from sunpy.net import Fido, attrs as SAF\n",
    "from scipy.stats.stats import pearsonr\n",
    "#from iris_lmsalpy import hcr2fits\n",
    "import matplotlib.pyplot as plt\n",
    "import scipy.ndimage as scnd\n",
    "from astropy.io import fits\n",
    "import astropy.units as u\n",
    "from tqdm import tqdm\n",
    "import numpy as np\n",
    "import matplotlib\n",
    "import sunpy.map\n",
    "import warnings\n",
    "import salat\n",
    "import glob\n",
    "import os\n",
    "warnings.filterwarnings(\"ignore\")"
   ]
  },
  {
   "cell_type": "code",
   "execution_count": 3,
   "id": "98ce2350-6982-4184-ade7-912bfde16794",
   "metadata": {},
   "outputs": [
    {
     "name": "stdout",
     "output_type": "stream",
     "text": [
      "\n",
      "---------------------------------------------------\n",
      "--------------- SALAT READ part of ----------------\n",
      "-- Solar Alma Library of Auxiliary Tools (SALAT) --\n",
      "\n",
      "Reading ALMA cube\n",
      "\n"
     ]
    },
    {
     "name": "stderr",
     "output_type": "stream",
     "text": [
      "100%|█████████████████████████████████████| 1608/1608 [00:01<00:00, 1211.43it/s]\n"
     ]
    },
    {
     "name": "stdout",
     "output_type": "stream",
     "text": [
      "Do you want to fill NaN with data median? (y/n): Y\n",
      "---------------------------------------------------\n",
      "--------------- SALAT INFO part of ----------------\n",
      "-- Solar Alma Library of Auxiliary Tools (SALAT) --\n",
      "\n",
      "\n",
      "----------------------------------------------\n",
      "| Data feat.: \n",
      "----------------------------------------------\n",
      "|  ALMA BAND:  3\n",
      "|  Obs. Date:  2018-04-12\n",
      "|  ALMA proj:  2017.1.00653.S\n",
      "|  Pix. Unit:  K\n",
      "|  Pix. Size:  0.3  arcsec.\n",
      "|  Beam mean:  2.15798  arcsec\n",
      "|  FOV. diam:  notcomputed\n",
      "----------------------------------------------\n",
      "| Data range \n",
      "----------------------------------------------\n",
      "|  Min =  5260.81054688  Kelvin\n",
      "|  Max =  10677.8203125  Kelvin\n",
      "----------------------------------------------\n",
      "\n",
      "Done!\n"
     ]
    }
   ],
   "source": [
    "path_ALMA = '/media/javier/SSD_2/D06_region/datos_SDO-completos_IRIS_ALMA/ALMA_data/{}'\n",
    "file = path_ALMA.format(\n",
    "    'D06_solaralma.b3.fba.20180412_155228-162441.2017.1.00653.S.level4.k.fits')\n",
    "almacube, header, timesec, timeutc, beammajor, beamminor, beamangle = salat.read(file, timeout=True, beamout=True,\n",
    "                                                                                 HEADER=True, SILENT=False, fillNan=True)"
   ]
  },
  {
   "cell_type": "code",
   "execution_count": 4,
   "id": "b339d4ea-cff6-498a-85f9-5c61c0587141",
   "metadata": {},
   "outputs": [],
   "source": [
    "def aperture_circ_ALMA(alma_cube):\n",
    "    \"\"\"\n",
    "    This function allow us to do a mask of a matrix with the FoV of ALMA\n",
    "\n",
    "    Input  : almacube obtained using SALSA \n",
    "    Output : A matrix mask with the same shape to ALMA'S IMAGES \n",
    "    \"\"\"\n",
    "    x_size = alma_cube.shape[1]\n",
    "    n = x_size\n",
    "    # total size of the grid  in meters\n",
    "    a = x_size\n",
    "    aperture = np.zeros([n, n])\n",
    "    # x grid 1D\n",
    "    x = np.linspace(-a/2.0, a/2.0, n)\n",
    "    # y grid 1D\n",
    "    y = np.linspace(-a/2.0, a/2.0, n)\n",
    "    # radius of the telescope\n",
    "    R = x_size/2\n",
    "    # making  circular aperture\n",
    "    for j in range(0, n, 1):\n",
    "        for i in range(0, n, 1):\n",
    "            if ((x[i]**2.0 + y[j]**2.0)**(1/2) <= R):\n",
    "                aperture[i, j] = 1.0\n",
    "    return aperture\n",
    "\n",
    "\n",
    "def fun_alma_rotate(cubo_alma, header_alma):\n",
    "    \"\"\"\n",
    "    Regard to IRIS/SDO images the ALMA images are rotated. \n",
    "    This function delete this rotation and applied  the \n",
    "    function aperture_circ_ALMA to has the FoV of ALMA\n",
    "    \n",
    "    --------------------Input----------------------------------\n",
    "    Parameters: cubo_alma : type array taken from  SALSA  \n",
    "                           is a vector where its position correspond a matrices \n",
    "                           (A photogram of  the sum)  \n",
    "                header:\n",
    "                Header of datacube where the angle of rotation will be taken  \n",
    "    Output: \n",
    "                ALMA_CUBE without rotation  \n",
    "    \"\"\"\n",
    "    # rotating ALMDA DATA\n",
    "    imag_alma_rot = []\n",
    "    print('Rotating ALMA cube')\n",
    "    for i in tqdm(range(0, len(cubo_alma), 1), colour='green'):\n",
    "        imag_alma_rot.append(scnd.interpolation.rotate(cubo_alma[i],\n",
    "                                                       angle=header_alma['SOLAR_P'], reshape=False))\n",
    "    print('rotate angle', header_alma['SOLAR_P'])\n",
    "    aperture = aperture_circ_ALMA(cubo_alma)\n",
    "    imag_alma_rot = imag_alma_rot*aperture\n",
    "    # cubo_alma[0][0][0] has mean value from ALMA cube\n",
    "    imag_alma_rot[imag_alma_rot < 0.05] = cubo_alma[0][0][0]\n",
    "    return imag_alma_rot\n",
    "\n",
    "\n",
    "def find_nearest(array, alma_t0, alma_tf):\n",
    "    '''\n",
    "    This function allows us to find (in a time vector) \n",
    "    the initial and final times at times alma_t0, alma_tf.\n",
    "    \n",
    "    --------------------Input----------------------------------\n",
    "    Parameters: array : type array and its elements is in the datetime.datetime \n",
    "                        format (in this case we  obtained this vector using the )\n",
    "                        in our case this time vector was obtained with the DATA-OBS \n",
    "                        of each previously downloaded SDO frame  \n",
    "                alma_t0: type T0 is  where the ALMA observation has started\n",
    "                         datetime.datetime  format\n",
    "                alma_tf: type Tf is  where the ALMA observation has finalized \n",
    "                         datetime.datetime  format  \n",
    "    --------------------Output----------------------------------\n",
    "    Positions in the vector array (array) closest to the   alma_t0, alma_tf        \n",
    "    '''\n",
    "    array = np.asarray(array)\n",
    "    idx_0 = (np.abs(array - alma_t0)).argmin()\n",
    "    idx_f = (np.abs(array - alma_tf)).argmin()\n",
    "    print('______________________________________________________')\n",
    "    print('t_0_SDO =', array[idx_0])\n",
    "    print('t_0_ALMA=', alma_t0)\n",
    "    print('______________________________________________________')\n",
    "    print('t_f_SDO =', array[idx_f])\n",
    "    print('t_0_ALMA=', alma_tf)\n",
    "    print('______________________________________________________')\n",
    "    print('posicion_n_0:', idx_0, '| posicion_n_f:', idx_f)\n",
    "    print('______________________________________________________')\n",
    "    return idx_0, idx_f"
   ]
  },
  {
   "cell_type": "markdown",
   "id": "9985f21c",
   "metadata": {},
   "source": [
    "## Rotating ALMA cube"
   ]
  },
  {
   "cell_type": "code",
   "execution_count": 6,
   "id": "1a3d91f8-3623-4d66-8c6a-10d655dd922c",
   "metadata": {},
   "outputs": [
    {
     "name": "stdout",
     "output_type": "stream",
     "text": [
      "Rotating ALMA cube\n"
     ]
    },
    {
     "name": "stderr",
     "output_type": "stream",
     "text": [
      "100%|\u001b[32m██████████████████████████████████████\u001b[0m| 1608/1608 [00:10<00:00, 152.63it/s]\u001b[0m\n"
     ]
    },
    {
     "name": "stdout",
     "output_type": "stream",
     "text": [
      "rotate angle -26.1446\n"
     ]
    }
   ],
   "source": [
    "# Rotating ALMA cube\n",
    "alma_rote = fun_alma_rotate(almacube, header)"
   ]
  },
  {
   "cell_type": "code",
   "execution_count": 7,
   "id": "beda662e-8fed-4d82-a37c-26153b9f6aa6",
   "metadata": {
    "tags": []
   },
   "outputs": [],
   "source": [
    "def sdo_align_ima(sdo_file, time_filter, time_alma, alma_cube, alma_resolution, path_mapMap):\n",
    "\n",
    "    '''\n",
    "    This function allow us to estimate the helioprojetive coordinate \n",
    "    to who the SDO and ALMA images are 'align '. For that, we use pearson \n",
    "    and SSIM  (Structural similarity) coefficient\n",
    "    ----------------------------Input----------------------------------\n",
    "    Parameters: \n",
    "                sdo_file:    type array, it is a vector (datacube) where   its elements is\n",
    "                             correspond to a matrices (photos)  taken by SDO/AIA or HMI\n",
    "                             In our case, the photos we used were those of the SDO cropped \n",
    "                             to a slightly larger FoV than the soul to be able to align the data\n",
    "                time_filter: type array and its elements is in the datetime.datetime \n",
    "                             format in our case this time vector was obtained with the DATA-OBS \n",
    "                             of each previously downloaded SDO frame\n",
    "                time_alma:   type array and its elements is in the datetime.datetime \n",
    "                             format. In this case we  obtained this vector from SALSA database\n",
    "\n",
    "                alma_cube:   it is a vector (datacube) where   its elements is\n",
    "                             correspond to a matrices (photos)  taken by ALMA,\n",
    "                             In this case we  obtained this vector from SALSA database\n",
    "                alma_resolution:  Taken from the header or ALMA database\n",
    "\n",
    "                path_mapMap: type  str, corresponds to the path where the information of  \n",
    "                             the SDO snippets loaded in the sdo_file variable was saved. This path \n",
    "                             is necessary to extract the information of the coordinates of the (HEADER)\n",
    "    -------------------------Output----------------------------------------\n",
    "    Helioprotective coordinate for which the maximum correlation is found between the SDO and ALMA data \n",
    "    for both alignment methods (Pearson and SSIM).  Also, it shows the 'r' of Pearson and SSIM, scale \n",
    "    factor of the images (the SDO images were taken to the ALMA resolution)\n",
    "\n",
    "    '''\n",
    "\n",
    "    url = sorted(glob.glob(path_mapMap))\n",
    "\n",
    "    \n",
    "    #name_filter= 'SDO/AIA {}'.format(94)\n",
    "    \n",
    "    try:\n",
    "        name_filter = fits.open(url[0])[0].header['TELESCOP']+ \\\n",
    "                  str('-')+fits.open(url[0])[0].header['WAVE_STR']\n",
    "        print('|-----------------{}-------------------|'.format(name_filter))  \n",
    "      \n",
    "    except:\n",
    "        name_filter = fits.open(url[0])[0].header['TELESCOP']+ \\\n",
    "              str('-')+fits.open(url[0])[0].header['INSTRUME']\n",
    "        print('|-----------------{}-------------------|'.format(name_filter)) \n",
    "\n",
    "    #name_filter = fits.open(url[0])[0].header['TELESCOP']+ \\\n",
    "    #              str('-')+fits.open(url[0])[0].header['WAVE_STR']\n",
    "    #print('|-----------------{}-------------------|'.format(name_filter))\n",
    "    \n",
    "    # To scale IRIS resolution\n",
    "    sdo_resolution = fits.open(url[0])[0].header['CDELT1']\n",
    "    cadence_filter = time_filter[1]-time_filter[0]\n",
    "    scale_factor = sdo_resolution/alma_resolution\n",
    "    print('scale_factor:', scale_factor)\n",
    "    print('Rescaling AIA  images')\n",
    "    # For example to AIA 94A filter\n",
    "    # from (226, 152, 151) ----> (950, 429, 408)\n",
    "    # same resolution to SDO/AIA AND HMI-ALMA 0.3\n",
    "    rescaled_sdo = []\n",
    "    for i in tqdm(range(len(sdo_file)), colour='green'):\n",
    "        rescaled_sdo.append(rescale(sdo_file[i], scale_factor, order=0,\n",
    "                                    anti_aliasing=False, preserve_range=True))\n",
    "    rescaled_sdo = np.array(rescaled_sdo)\n",
    "\n",
    "    print('________________________________________________________________________')\n",
    "    print('initial shape:', sdo_file.shape,\n",
    "          '| rescaled shape:', rescaled_sdo.shape)\n",
    "    # --------------Selecting the same windown of ALMA----------------\n",
    "    posicion_n_0, posicion_n_f = find_nearest(\n",
    "        time_filter, time_alma[0], time_alma[-1])\n",
    "\n",
    "    # -------------- Mean IRIS and ALMA datacube-----------------------\n",
    "    mean_sdo    = np.sum([i for i in rescaled_sdo[int(posicion_n_0):int(\n",
    "        posicion_n_f)]], 0)/len(rescaled_sdo[int(posicion_n_0):int(posicion_n_f)])\n",
    "    mean_alma   = np.sum([i for i in alma_cube], 0)/len(alma_cube)\n",
    "    sdo_interp  = np.interp(mean_sdo, (np.percentile(\n",
    "        mean_sdo, 11), np.percentile(mean_sdo, 95)), (0, +1))\n",
    "    alma_interp = np.interp(mean_alma, (np.percentile(\n",
    "        mean_alma, 11), np.percentile(mean_alma, 95)), (0, +1))\n",
    "    # -------------- ALMA_VECTOR ---------------------------------------\n",
    "    flatten_alma = alma_interp.flatten()\n",
    "    ccrr_pearson = np.zeros((sdo_interp.shape[0], sdo_interp.shape[1]))\n",
    "    ccrr_ssim    = np.zeros((sdo_interp.shape[0], sdo_interp.shape[1]))\n",
    "\n",
    "    print('|----Estimating Pearson and SSIM coeffients---- | ')\n",
    "    for i in tqdm(range(0, sdo_interp.shape[0]-alma_interp.shape[0]+1, 1), position=0, desc=\"i\", leave=False, colour='green', ncols=100):\n",
    "        for j in range(0, sdo_interp.shape[1] - alma_interp.shape[1]+1, 1):\n",
    "            matrix = sdo_interp[0+i:alma_interp.shape[0]+i, 0+j:alma_interp.shape[1]+j].copy()\n",
    "            corr, valor_p = pearsonr(matrix.flatten(), flatten_alma)\n",
    "            ssim_none = ssim(matrix, alma_interp,\n",
    "                             data_range=sdo_interp.max() - sdo_interp.min())\n",
    "            x = i+alma_interp.shape[1]//2\n",
    "            y = j+alma_interp.shape[0]//2\n",
    "            ccrr_pearson[x][y] = corr\n",
    "            ccrr_ssim[x][y]    = ssim_none\n",
    "\n",
    "    x_max_pearson = np.where(ccrr_pearson == np.max(ccrr_pearson))[1][0]\n",
    "    y_max_pearson = np.where(ccrr_pearson == np.max(ccrr_pearson))[0][0]\n",
    "    x_max_ssim    = np.where(ccrr_ssim    == np.max(ccrr_ssim))[1][0]\n",
    "    y_max_ssim    = np.where(ccrr_ssim    == np.max(ccrr_ssim))[0][0]\n",
    "\n",
    "\n",
    "    print('________________________________________________________________________')\n",
    "    print('x_max_pearson=', x_max_pearson, '| y_max_pearson=',\n",
    "          y_max_pearson, \"| r=\", np.max(ccrr_pearson))\n",
    "\n",
    "\n",
    "    print('________________________________________________________________________')\n",
    "    print('x_max_ssim   =', x_max_ssim, '| y_max_ssim   =',\n",
    "          y_max_ssim,   \"| r=\", np.max(ccrr_ssim))\n",
    "\n",
    "    print('________________________________________________________________________')\n",
    "    print('|-----Helioprojective Coordinates-------|')\n",
    "    map_sunpy                            = sunpy.map.Map(url[posicion_n_0])\n",
    "    x_scaled_pearson , y_scaled_pearson  = x_max_pearson/scale_factor   ,  y_max_pearson/scale_factor\n",
    "    cord_pearson                         = map_sunpy.pixel_to_world(x_scaled_pearson *u.pix,  y_scaled_pearson *u.pix )\n",
    "\n",
    "    print('Pearson: (Tx, Ty) in arcsec',cord_pearson.Tx.value,cord_pearson.Ty.value)\n",
    "\n",
    "    x_scaled_ssim, y_scaled_ssim =  x_max_ssim/scale_factor   ,  y_max_ssim/scale_factor\n",
    "    cord_ssim               = map_sunpy.pixel_to_world(x_scaled_ssim*u.pix,  y_scaled_ssim*u.pix )\n",
    "    print('SSIM   : (Tx, Ty) in arcsec',cord_ssim.Tx.value,cord_ssim.Ty.value)\n",
    "    print('________________________________________________________________________')\n",
    "    print('________________________________________________________________________')\n",
    "    print('________________________________________________________________________')\n",
    "    \n",
    "\n"
   ]
  },
  {
   "cell_type": "code",
   "execution_count": 8,
   "id": "367e87b0-bf83-4c6d-a28e-c6f9638c2722",
   "metadata": {},
   "outputs": [],
   "source": [
    "'''\n",
    "path_sdo = '/media/javier/SSD_2/D06_region/datos_SDO-completos_IRIS_ALMA/SDO_data_cubic/{}'\n",
    "cubo_171 = np.load(path_sdo.format('cuboAIA171.npy'), allow_pickle=True).astype(np.float32)                   \n",
    "time_171 = np.load(path_sdo.format('cuboAIA_timeUTC_171.npy'),  allow_pickle=True)\n",
    "wl = [94, 131, 171, 193, 211, 304, 335, 1600, 1700]\n",
    "path_crop ='/media/javier/SSD_2/D06_region/datos_SDO-completos_IRIS_ALMA/SDO_COMPLETOS/{}/crop/*.fits'.format(\n",
    "    wl[2])\n",
    "sdo_align_ima(cubo_171, time_171, timeutc, alma_rote, header['CDELT1A'] ,path_crop)\n",
    "'''"
   ]
  },
  {
   "cell_type": "markdown",
   "id": "a81b849f-e32c-42e9-9567-403b451822d7",
   "metadata": {},
   "source": [
    "##   Aligning ALMA with SDO without rotating the SDO crops"
   ]
  },
  {
   "cell_type": "code",
   "execution_count": 7,
   "id": "23a0d627-8487-41bf-839e-3397084cac40",
   "metadata": {},
   "outputs": [
    {
     "name": "stdout",
     "output_type": "stream",
     "text": [
      "|-----------------SDO/AIA-94_THIN-------------------|\n",
      "scale_factor: 2.0003633333333335\n",
      "Rescaling AIA  images\n"
     ]
    },
    {
     "name": "stderr",
     "output_type": "stream",
     "text": [
      "100%|\u001b[32m██████████\u001b[0m| 226/226 [00:00<00:00, 446.09it/s]\n"
     ]
    },
    {
     "name": "stdout",
     "output_type": "stream",
     "text": [
      "________________________________________________________________________\n",
      "initial shape: (226, 191, 191) | rescaled shape: (226, 382, 382)\n",
      "______________________________________________________\n",
      "t_0_SDO = 2018-04-12 15:52:35.120000\n",
      "t_0_ALMA= 2018-04-12 15:52:31.992187\n",
      "______________________________________________________\n",
      "t_f_SDO = 2018-04-12 16:24:35.120000\n",
      "t_0_ALMA= 2018-04-12 16:24:40.246093\n",
      "______________________________________________________\n",
      "posicion_n_0: 35 | posicion_n_f: 195\n",
      "______________________________________________________\n",
      "|----Estimating Pearson and SSIM coeffients---- | \n"
     ]
    },
    {
     "name": "stderr",
     "output_type": "stream",
     "text": [
      "                                                                                                    1.10s/it]\u001b[0m\r"
     ]
    },
    {
     "name": "stdout",
     "output_type": "stream",
     "text": [
      "________________________________________________________________________\n",
      "x_max_pearson= 224 | y_max_pearson= 255 | r= 0.17013104662240985\n",
      "________________________________________________________________________\n",
      "x_max_ssim   = 189 | y_max_ssim   = 238 | r= 0.02790817616257489\n",
      "________________________________________________________________________\n",
      "|-----Helioprojective Coordinates-------|\n",
      "Pearson: (Tx, Ty) in arcsec -138.2581859617494 -419.2446979798585\n",
      "SSIM   : (Tx, Ty) in arcsec -127.74596959236078 -414.16997088115625\n",
      "|-----------------SDO/AIA-131_THIN-------------------|\n",
      "scale_factor: 2.002326666666667\n",
      "Rescaling AIA  images\n"
     ]
    },
    {
     "name": "stderr",
     "output_type": "stream",
     "text": [
      "100%|\u001b[32m██████████\u001b[0m| 226/226 [00:00<00:00, 511.44it/s]\n"
     ]
    },
    {
     "name": "stdout",
     "output_type": "stream",
     "text": [
      "________________________________________________________________________\n",
      "initial shape: (226, 191, 191) | rescaled shape: (226, 382, 382)\n",
      "______________________________________________________\n",
      "t_0_SDO = 2018-04-12 15:52:30.620000\n",
      "t_0_ALMA= 2018-04-12 15:52:31.992187\n",
      "______________________________________________________\n",
      "t_f_SDO = 2018-04-12 16:24:42.620000\n",
      "t_0_ALMA= 2018-04-12 16:24:40.246093\n",
      "______________________________________________________\n",
      "posicion_n_0: 35 | posicion_n_f: 196\n",
      "______________________________________________________\n",
      "|----Estimating Pearson and SSIM coeffients---- | \n"
     ]
    },
    {
     "name": "stderr",
     "output_type": "stream",
     "text": [
      "                                                                                                    1.06s/it]\u001b[0m\r"
     ]
    },
    {
     "name": "stdout",
     "output_type": "stream",
     "text": [
      "________________________________________________________________________\n",
      "x_max_pearson= 208 | y_max_pearson= 255 | r= 0.3436838984909529\n",
      "________________________________________________________________________\n",
      "x_max_ssim   = 200 | y_max_ssim   = 244 | r= 0.09505375971617175\n",
      "________________________________________________________________________\n",
      "|-----Helioprojective Coordinates-------|\n",
      "Pearson: (Tx, Ty) in arcsec -133.58501698635519 -419.39742614176777\n",
      "SSIM   : (Tx, Ty) in arcsec -131.1770222708583 -416.1032733589473\n",
      "|-----------------SDO/AIA-171_THIN-------------------|\n",
      "scale_factor: 1.9982966666666668\n",
      "Rescaling AIA  images\n"
     ]
    },
    {
     "name": "stderr",
     "output_type": "stream",
     "text": [
      "100%|\u001b[32m██████████\u001b[0m| 225/225 [00:00<00:00, 515.10it/s]\n"
     ]
    },
    {
     "name": "stdout",
     "output_type": "stream",
     "text": [
      "________________________________________________________________________\n",
      "initial shape: (225, 191, 191) | rescaled shape: (225, 382, 382)\n",
      "______________________________________________________\n",
      "t_0_SDO = 2018-04-12 15:52:33.350000\n",
      "t_0_ALMA= 2018-04-12 15:52:31.992187\n",
      "______________________________________________________\n",
      "t_f_SDO = 2018-04-12 16:24:45.350000\n",
      "t_0_ALMA= 2018-04-12 16:24:40.246093\n",
      "______________________________________________________\n",
      "posicion_n_0: 35 | posicion_n_f: 196\n",
      "______________________________________________________\n",
      "|----Estimating Pearson and SSIM coeffients---- | \n"
     ]
    },
    {
     "name": "stderr",
     "output_type": "stream",
     "text": [
      "                                                                                                    1.23s/it]\u001b[0m\r"
     ]
    },
    {
     "name": "stdout",
     "output_type": "stream",
     "text": [
      "________________________________________________________________________\n",
      "x_max_pearson= 208 | y_max_pearson= 255 | r= 0.34708853807018275\n",
      "________________________________________________________________________\n",
      "x_max_ssim   = 167 | y_max_ssim   = 189 | r= 0.20351729673872823\n",
      "________________________________________________________________________\n",
      "|-----Helioprojective Coordinates-------|\n",
      "Pearson: (Tx, Ty) in arcsec -133.48404813208617 -419.3261655728252\n",
      "SSIM   : (Tx, Ty) in arcsec -121.19072381127626 -399.52211992040577\n",
      "|-----------------SDO/AIA-193_THIN-------------------|\n",
      "scale_factor: 2.00238\n",
      "Rescaling AIA  images\n"
     ]
    },
    {
     "name": "stderr",
     "output_type": "stream",
     "text": [
      "100%|\u001b[32m██████████\u001b[0m| 225/225 [00:00<00:00, 495.08it/s]\n"
     ]
    },
    {
     "name": "stdout",
     "output_type": "stream",
     "text": [
      "________________________________________________________________________\n",
      "initial shape: (225, 191, 191) | rescaled shape: (225, 382, 382)\n",
      "______________________________________________________\n",
      "t_0_SDO = 2018-04-12 15:52:28.840000\n",
      "t_0_ALMA= 2018-04-12 15:52:31.992187\n",
      "______________________________________________________\n",
      "t_f_SDO = 2018-04-12 16:24:40.840000\n",
      "t_0_ALMA= 2018-04-12 16:24:40.246093\n",
      "______________________________________________________\n",
      "posicion_n_0: 35 | posicion_n_f: 196\n",
      "______________________________________________________\n",
      "|----Estimating Pearson and SSIM coeffients---- | \n"
     ]
    },
    {
     "name": "stderr",
     "output_type": "stream",
     "text": [
      "                                                                                                    1.25s/it]\u001b[0m\r"
     ]
    },
    {
     "name": "stdout",
     "output_type": "stream",
     "text": [
      "________________________________________________________________________\n",
      "x_max_pearson= 220 | y_max_pearson= 255 | r= 0.2690772300080057\n",
      "________________________________________________________________________\n",
      "x_max_ssim   = 175 | y_max_ssim   = 201 | r= 0.18979086181683308\n",
      "________________________________________________________________________\n",
      "|-----Helioprojective Coordinates-------|\n",
      "Pearson: (Tx, Ty) in arcsec -136.8948649871163 -419.4707032402484\n",
      "SSIM   : (Tx, Ty) in arcsec -123.4111722514499 -403.2572169191133\n",
      "|-----------------SDO/AIA-211_THIN-------------------|\n",
      "scale_factor: 2.002526666666667\n",
      "Rescaling AIA  images\n"
     ]
    },
    {
     "name": "stderr",
     "output_type": "stream",
     "text": [
      "100%|\u001b[32m██████████\u001b[0m| 225/225 [00:00<00:00, 503.16it/s]\n"
     ]
    },
    {
     "name": "stdout",
     "output_type": "stream",
     "text": [
      "________________________________________________________________________\n",
      "initial shape: (225, 191, 190) | rescaled shape: (225, 382, 380)\n",
      "______________________________________________________\n",
      "t_0_SDO = 2018-04-12 15:52:33.630000\n",
      "t_0_ALMA= 2018-04-12 15:52:31.992187\n",
      "______________________________________________________\n",
      "t_f_SDO = 2018-04-12 16:24:45.630000\n",
      "t_0_ALMA= 2018-04-12 16:24:40.246093\n",
      "______________________________________________________\n",
      "posicion_n_0: 35 | posicion_n_f: 196\n",
      "______________________________________________________\n",
      "|----Estimating Pearson and SSIM coeffients---- | \n"
     ]
    },
    {
     "name": "stderr",
     "output_type": "stream",
     "text": [
      "                                                                                                    1.12s/it]\u001b[0m\r"
     ]
    },
    {
     "name": "stdout",
     "output_type": "stream",
     "text": [
      "________________________________________________________________________\n",
      "x_max_pearson= 206 | y_max_pearson= 255 | r= 0.32771794707142854\n",
      "________________________________________________________________________\n",
      "x_max_ssim   = 145 | y_max_ssim   = 254 | r= 0.1674691754786429\n",
      "________________________________________________________________________\n",
      "|-----Helioprojective Coordinates-------|\n",
      "Pearson: (Tx, Ty) in arcsec -133.07551645464264 -419.54321886202956\n",
      "SSIM   : (Tx, Ty) in arcsec -114.77582722553052 -419.2252301224586\n",
      "|-----------------SDO/AIA-304_THIN-------------------|\n",
      "scale_factor: 2.00055\n",
      "Rescaling AIA  images\n"
     ]
    },
    {
     "name": "stderr",
     "output_type": "stream",
     "text": [
      "100%|\u001b[32m██████████\u001b[0m| 225/225 [00:00<00:00, 494.73it/s]\n"
     ]
    },
    {
     "name": "stdout",
     "output_type": "stream",
     "text": [
      "________________________________________________________________________\n",
      "initial shape: (225, 191, 191) | rescaled shape: (225, 382, 382)\n",
      "______________________________________________________\n",
      "t_0_SDO = 2018-04-12 15:52:29.140000\n",
      "t_0_ALMA= 2018-04-12 15:52:31.992187\n",
      "______________________________________________________\n",
      "t_f_SDO = 2018-04-12 16:24:41.120000\n",
      "t_0_ALMA= 2018-04-12 16:24:40.246093\n",
      "______________________________________________________\n",
      "posicion_n_0: 35 | posicion_n_f: 196\n",
      "______________________________________________________\n",
      "|----Estimating Pearson and SSIM coeffients---- | \n"
     ]
    },
    {
     "name": "stderr",
     "output_type": "stream",
     "text": [
      "                                                                                                    1.10s/it]\u001b[0m\r"
     ]
    },
    {
     "name": "stdout",
     "output_type": "stream",
     "text": [
      "________________________________________________________________________\n",
      "x_max_pearson= 171 | y_max_pearson= 198 | r= 0.307643713050551\n",
      "________________________________________________________________________\n",
      "x_max_ssim   = 234 | y_max_ssim   = 255 | r= 0.12609205076263147\n",
      "________________________________________________________________________\n",
      "|-----Helioprojective Coordinates-------|\n",
      "Pearson: (Tx, Ty) in arcsec -122.50485327187926 -402.2150535277373\n",
      "SSIM   : (Tx, Ty) in arcsec -141.44412836967967 -419.27143984177206\n",
      "|-----------------SDO/AIA-335_THIN-------------------|\n",
      "scale_factor: 2.0024566666666668\n",
      "Rescaling AIA  images\n"
     ]
    },
    {
     "name": "stderr",
     "output_type": "stream",
     "text": [
      "100%|\u001b[32m██████████\u001b[0m| 224/224 [00:00<00:00, 531.14it/s]\n"
     ]
    },
    {
     "name": "stdout",
     "output_type": "stream",
     "text": [
      "________________________________________________________________________\n",
      "initial shape: (224, 191, 191) | rescaled shape: (224, 382, 382)\n",
      "______________________________________________________\n",
      "t_0_SDO = 2018-04-12 15:52:36.640000\n",
      "t_0_ALMA= 2018-04-12 15:52:31.992187\n",
      "______________________________________________________\n",
      "t_f_SDO = 2018-04-12 16:24:36.630000\n",
      "t_0_ALMA= 2018-04-12 16:24:40.246093\n",
      "______________________________________________________\n",
      "posicion_n_0: 35 | posicion_n_f: 195\n",
      "______________________________________________________\n",
      "|----Estimating Pearson and SSIM coeffients---- | \n"
     ]
    },
    {
     "name": "stderr",
     "output_type": "stream",
     "text": [
      "                                                                                                    1.26s/it]\u001b[0m\r"
     ]
    },
    {
     "name": "stdout",
     "output_type": "stream",
     "text": [
      "________________________________________________________________________\n",
      "x_max_pearson= 213 | y_max_pearson= 255 | r= 0.2593866708307053\n",
      "________________________________________________________________________\n",
      "x_max_ssim   = 174 | y_max_ssim   = 200 | r= 0.043222742689100604\n",
      "________________________________________________________________________\n",
      "|-----Helioprojective Coordinates-------|\n",
      "Pearson: (Tx, Ty) in arcsec -134.75490059657022 -419.35456298915983\n",
      "SSIM   : (Tx, Ty) in arcsec -123.01390809519216 -402.88379361546936\n",
      "|-----------------SDO/AIA-1600-------------------|\n",
      "scale_factor: 2.0312433333333337\n",
      "Rescaling AIA  images\n"
     ]
    },
    {
     "name": "stderr",
     "output_type": "stream",
     "text": [
      "100%|\u001b[32m██████████\u001b[0m| 112/112 [00:00<00:00, 457.31it/s]\n"
     ]
    },
    {
     "name": "stdout",
     "output_type": "stream",
     "text": [
      "________________________________________________________________________\n",
      "initial shape: (112, 188, 188) | rescaled shape: (112, 382, 382)\n",
      "______________________________________________________\n",
      "t_0_SDO = 2018-04-12 15:52:38.130000\n",
      "t_0_ALMA= 2018-04-12 15:52:31.992187\n",
      "______________________________________________________\n",
      "t_f_SDO = 2018-04-12 16:24:38.120000\n",
      "t_0_ALMA= 2018-04-12 16:24:40.246093\n",
      "______________________________________________________\n",
      "posicion_n_0: 17 | posicion_n_f: 97\n",
      "______________________________________________________\n",
      "|----Estimating Pearson and SSIM coeffients---- | \n"
     ]
    },
    {
     "name": "stderr",
     "output_type": "stream",
     "text": [
      "                                                                                                    1.22s/it]\u001b[0m\r"
     ]
    },
    {
     "name": "stdout",
     "output_type": "stream",
     "text": [
      "________________________________________________________________________\n",
      "x_max_pearson= 223 | y_max_pearson= 233 | r= 0.24708761071957586\n",
      "________________________________________________________________________\n",
      "x_max_ssim   = 228 | y_max_ssim   = 230 | r= 0.06547243624731396\n",
      "________________________________________________________________________\n",
      "|-----Helioprojective Coordinates-------|\n",
      "Pearson: (Tx, Ty) in arcsec -137.9019109455403 -413.13964674101004\n",
      "SSIM   : (Tx, Ty) in arcsec -139.40222033229657 -412.2401655034645\n",
      "|-----------------SDO/AIA-1700-------------------|\n",
      "scale_factor: 2.0429933333333334\n",
      "Rescaling AIA  images\n"
     ]
    },
    {
     "name": "stderr",
     "output_type": "stream",
     "text": [
      "100%|\u001b[32m██████████\u001b[0m| 111/111 [00:00<00:00, 547.10it/s]\n"
     ]
    },
    {
     "name": "stdout",
     "output_type": "stream",
     "text": [
      "________________________________________________________________________\n",
      "initial shape: (111, 187, 187) | rescaled shape: (111, 382, 382)\n",
      "______________________________________________________\n",
      "t_0_SDO = 2018-04-12 15:52:28.720000\n",
      "t_0_ALMA= 2018-04-12 15:52:31.992187\n",
      "______________________________________________________\n",
      "t_f_SDO = 2018-04-12 16:24:28.720000\n",
      "t_0_ALMA= 2018-04-12 16:24:40.246093\n",
      "______________________________________________________\n",
      "posicion_n_0: 17 | posicion_n_f: 96\n",
      "______________________________________________________\n",
      "|----Estimating Pearson and SSIM coeffients---- | \n"
     ]
    },
    {
     "name": "stderr",
     "output_type": "stream",
     "text": [
      "                                                                                                    1.32s/it]\u001b[0m"
     ]
    },
    {
     "name": "stdout",
     "output_type": "stream",
     "text": [
      "________________________________________________________________________\n",
      "x_max_pearson= 222 | y_max_pearson= 233 | r= 0.2558681987945488\n",
      "________________________________________________________________________\n",
      "x_max_ssim   = 228 | y_max_ssim   = 229 | r= 0.05851818581733749\n",
      "________________________________________________________________________\n",
      "|-----Helioprojective Coordinates-------|\n",
      "Pearson: (Tx, Ty) in arcsec -137.81181484134868 -413.0551749431002\n",
      "SSIM   : (Tx, Ty) in arcsec -139.61224343022332 -411.8558219435727\n"
     ]
    },
    {
     "name": "stderr",
     "output_type": "stream",
     "text": [
      "\r"
     ]
    }
   ],
   "source": [
    "#wl = [94]\n",
    "wl = [94, 131, 171, 193, 211, 304, 335, 1600, 1700]\n",
    "\n",
    "for i in wl:\n",
    "    #--------------Loading data cube in forma npy for every AIA filter------------------------------\n",
    "    path_cube='/media/javier/SSD_2/D06_region/datos_SDO-completos_IRIS_ALMA/SDO_data_cubic'+ \\\n",
    "              '/cuboAIA{filter}.npy'.format(filter=i)\n",
    "    path_time='/media/javier/SSD_2/D06_region/datos_SDO-completos_IRIS_ALMA/SDO_data_cubic' + \\\n",
    "              '/cuboAIA_timeUTC_{filter}.npy'.format(filter=i)\n",
    "    cube_data_load=  np.load(path_cube, allow_pickle=True).astype(np.float32) \n",
    "    cube_time_load=  np.load(path_time, allow_pickle=True)\n",
    "    #--------------Loading crops in .fits  format ------------------------------\n",
    "    path_crop ='/media/javier/SSD_2/D06_region/datos_SDO-completos_IRIS_ALMA/SDO_COMPLETOS'+ \\\n",
    "               '/{}/crop/*.fits'.format(i) \n",
    "    #---------------Using function sdo_align_ima ----------------------\n",
    "    sdo_align_ima(cube_data_load, cube_time_load, timeutc, alma_rote, header['CDELT1A'],path_crop)"
   ]
  },
  {
   "cell_type": "code",
   "execution_count": 67,
   "id": "9a3934bc-4749-4540-b6ed-7fd823562f7f",
   "metadata": {
    "collapsed": true,
    "jupyter": {
     "outputs_hidden": true
    },
    "tags": []
   },
   "outputs": [
    {
     "name": "stdout",
     "output_type": "stream",
     "text": [
      "|-----------------SDO/HMI-HMI_FRONT2-------------------|\n",
      "scale_factor: 1.6811633333333336\n",
      "Rescaling AIA  images\n"
     ]
    },
    {
     "name": "stderr",
     "output_type": "stream",
     "text": [
      "100%|\u001b[32m██████████████████████████████████████████\u001b[0m| 60/60 [00:00<00:00, 413.39it/s]\u001b[0m"
     ]
    },
    {
     "name": "stdout",
     "output_type": "stream",
     "text": [
      "________________________________________________________________________\n",
      "initial shape: (60,) | rescaled shape: (60,)\n",
      "______________________________________________________\n",
      "t_0_SDO = 2018-04-12 15:52:16.700001\n",
      "t_0_ALMA= 2018-04-12 15:52:31.992187\n",
      "______________________________________________________\n",
      "t_f_SDO = 2018-04-12 16:24:31.700001\n",
      "t_0_ALMA= 2018-04-12 16:24:40.246093\n",
      "______________________________________________________\n",
      "posicion_n_0: 9 | posicion_n_f: 52\n",
      "______________________________________________________\n"
     ]
    },
    {
     "name": "stderr",
     "output_type": "stream",
     "text": [
      "\n"
     ]
    },
    {
     "ename": "ValueError",
     "evalue": "operands could not be broadcast together with shapes (382,382) (383,382) ",
     "output_type": "error",
     "traceback": [
      "\u001b[0;31m---------------------------------------------------------------------------\u001b[0m",
      "\u001b[0;31mValueError\u001b[0m                                Traceback (most recent call last)",
      "Cell \u001b[0;32mIn [67], line 9\u001b[0m\n\u001b[1;32m      7\u001b[0m cube_data_hmi\u001b[38;5;241m=\u001b[39m  np\u001b[38;5;241m.\u001b[39mload(path_cube_hmi_crop, allow_pickle\u001b[38;5;241m=\u001b[39m\u001b[38;5;28;01mTrue\u001b[39;00m) \n\u001b[1;32m      8\u001b[0m cube_time_hmi\u001b[38;5;241m=\u001b[39m  np\u001b[38;5;241m.\u001b[39mload(path_time_hmi_crop, allow_pickle\u001b[38;5;241m=\u001b[39m\u001b[38;5;28;01mTrue\u001b[39;00m)\n\u001b[0;32m----> 9\u001b[0m \u001b[43msdo_align_ima\u001b[49m\u001b[43m(\u001b[49m\u001b[43mcube_data_hmi\u001b[49m\u001b[43m,\u001b[49m\u001b[43m \u001b[49m\u001b[43mcube_time_hmi\u001b[49m\u001b[43m,\u001b[49m\u001b[43m \u001b[49m\u001b[43mtimeutc\u001b[49m\u001b[43m,\u001b[49m\u001b[43m \u001b[49m\u001b[43malma_rote\u001b[49m\u001b[43m,\u001b[49m\u001b[43m \u001b[49m\u001b[38;5;241;43m0.3\u001b[39;49m\u001b[43m,\u001b[49m\u001b[43mpath_hmi_crops\u001b[49m\u001b[43m)\u001b[49m\n",
      "Cell \u001b[0;32mIn [65], line 45\u001b[0m, in \u001b[0;36msdo_align_ima\u001b[0;34m(sdo_file, time_filter, time_alma, alma_cube, alma_resolution, path_mapMap)\u001b[0m\n\u001b[1;32m     41\u001b[0m posicion_n_0, posicion_n_f \u001b[38;5;241m=\u001b[39m find_nearest(\n\u001b[1;32m     42\u001b[0m     time_filter, time_alma[\u001b[38;5;241m0\u001b[39m], time_alma[\u001b[38;5;241m-\u001b[39m\u001b[38;5;241m1\u001b[39m])\n\u001b[1;32m     44\u001b[0m \u001b[38;5;66;03m# -------------- Mean IRIS and ALMA datacube-----------------------\u001b[39;00m\n\u001b[0;32m---> 45\u001b[0m mean_sdo \u001b[38;5;241m=\u001b[39m \u001b[43mnp\u001b[49m\u001b[38;5;241;43m.\u001b[39;49m\u001b[43msum\u001b[49m\u001b[43m(\u001b[49m\u001b[43m[\u001b[49m\u001b[43mi\u001b[49m\u001b[43m \u001b[49m\u001b[38;5;28;43;01mfor\u001b[39;49;00m\u001b[43m \u001b[49m\u001b[43mi\u001b[49m\u001b[43m \u001b[49m\u001b[38;5;129;43;01min\u001b[39;49;00m\u001b[43m \u001b[49m\u001b[43mrescaled_sdo\u001b[49m\u001b[43m[\u001b[49m\u001b[38;5;28;43mint\u001b[39;49m\u001b[43m(\u001b[49m\u001b[43mposicion_n_0\u001b[49m\u001b[43m)\u001b[49m\u001b[43m:\u001b[49m\u001b[38;5;28;43mint\u001b[39;49m\u001b[43m(\u001b[49m\n\u001b[1;32m     46\u001b[0m \u001b[43m    \u001b[49m\u001b[43mposicion_n_f\u001b[49m\u001b[43m)\u001b[49m\u001b[43m]\u001b[49m\u001b[43m]\u001b[49m\u001b[43m,\u001b[49m\u001b[43m \u001b[49m\u001b[38;5;241;43m0\u001b[39;49m\u001b[43m)\u001b[49m\u001b[38;5;241m/\u001b[39m\u001b[38;5;28mlen\u001b[39m(rescaled_sdo[\u001b[38;5;28mint\u001b[39m(posicion_n_0):\u001b[38;5;28mint\u001b[39m(posicion_n_f)])\n\u001b[1;32m     47\u001b[0m mean_alma \u001b[38;5;241m=\u001b[39m np\u001b[38;5;241m.\u001b[39msum([i \u001b[38;5;28;01mfor\u001b[39;00m i \u001b[38;5;129;01min\u001b[39;00m alma_cube], \u001b[38;5;241m0\u001b[39m)\u001b[38;5;241m/\u001b[39m\u001b[38;5;28mlen\u001b[39m(alma_cube)\n\u001b[1;32m     48\u001b[0m sdo_interp \u001b[38;5;241m=\u001b[39m np\u001b[38;5;241m.\u001b[39minterp(mean_sdo, (np\u001b[38;5;241m.\u001b[39mpercentile(\n\u001b[1;32m     49\u001b[0m     mean_sdo, \u001b[38;5;241m11\u001b[39m), np\u001b[38;5;241m.\u001b[39mpercentile(mean_sdo, \u001b[38;5;241m95\u001b[39m)), (\u001b[38;5;241m0\u001b[39m, \u001b[38;5;241m+\u001b[39m\u001b[38;5;241m1\u001b[39m))\n",
      "File \u001b[0;32m<__array_function__ internals>:180\u001b[0m, in \u001b[0;36msum\u001b[0;34m(*args, **kwargs)\u001b[0m\n",
      "File \u001b[0;32m~/.local/lib/python3.9/site-packages/numpy/core/fromnumeric.py:2298\u001b[0m, in \u001b[0;36msum\u001b[0;34m(a, axis, dtype, out, keepdims, initial, where)\u001b[0m\n\u001b[1;32m   2295\u001b[0m         \u001b[38;5;28;01mreturn\u001b[39;00m out\n\u001b[1;32m   2296\u001b[0m     \u001b[38;5;28;01mreturn\u001b[39;00m res\n\u001b[0;32m-> 2298\u001b[0m \u001b[38;5;28;01mreturn\u001b[39;00m \u001b[43m_wrapreduction\u001b[49m\u001b[43m(\u001b[49m\u001b[43ma\u001b[49m\u001b[43m,\u001b[49m\u001b[43m \u001b[49m\u001b[43mnp\u001b[49m\u001b[38;5;241;43m.\u001b[39;49m\u001b[43madd\u001b[49m\u001b[43m,\u001b[49m\u001b[43m \u001b[49m\u001b[38;5;124;43m'\u001b[39;49m\u001b[38;5;124;43msum\u001b[39;49m\u001b[38;5;124;43m'\u001b[39;49m\u001b[43m,\u001b[49m\u001b[43m \u001b[49m\u001b[43maxis\u001b[49m\u001b[43m,\u001b[49m\u001b[43m \u001b[49m\u001b[43mdtype\u001b[49m\u001b[43m,\u001b[49m\u001b[43m \u001b[49m\u001b[43mout\u001b[49m\u001b[43m,\u001b[49m\u001b[43m \u001b[49m\u001b[43mkeepdims\u001b[49m\u001b[38;5;241;43m=\u001b[39;49m\u001b[43mkeepdims\u001b[49m\u001b[43m,\u001b[49m\n\u001b[1;32m   2299\u001b[0m \u001b[43m                      \u001b[49m\u001b[43minitial\u001b[49m\u001b[38;5;241;43m=\u001b[39;49m\u001b[43minitial\u001b[49m\u001b[43m,\u001b[49m\u001b[43m \u001b[49m\u001b[43mwhere\u001b[49m\u001b[38;5;241;43m=\u001b[39;49m\u001b[43mwhere\u001b[49m\u001b[43m)\u001b[49m\n",
      "File \u001b[0;32m~/.local/lib/python3.9/site-packages/numpy/core/fromnumeric.py:86\u001b[0m, in \u001b[0;36m_wrapreduction\u001b[0;34m(obj, ufunc, method, axis, dtype, out, **kwargs)\u001b[0m\n\u001b[1;32m     83\u001b[0m         \u001b[38;5;28;01melse\u001b[39;00m:\n\u001b[1;32m     84\u001b[0m             \u001b[38;5;28;01mreturn\u001b[39;00m reduction(axis\u001b[38;5;241m=\u001b[39maxis, out\u001b[38;5;241m=\u001b[39mout, \u001b[38;5;241m*\u001b[39m\u001b[38;5;241m*\u001b[39mpasskwargs)\n\u001b[0;32m---> 86\u001b[0m \u001b[38;5;28;01mreturn\u001b[39;00m \u001b[43mufunc\u001b[49m\u001b[38;5;241;43m.\u001b[39;49m\u001b[43mreduce\u001b[49m\u001b[43m(\u001b[49m\u001b[43mobj\u001b[49m\u001b[43m,\u001b[49m\u001b[43m \u001b[49m\u001b[43maxis\u001b[49m\u001b[43m,\u001b[49m\u001b[43m \u001b[49m\u001b[43mdtype\u001b[49m\u001b[43m,\u001b[49m\u001b[43m \u001b[49m\u001b[43mout\u001b[49m\u001b[43m,\u001b[49m\u001b[43m \u001b[49m\u001b[38;5;241;43m*\u001b[39;49m\u001b[38;5;241;43m*\u001b[39;49m\u001b[43mpasskwargs\u001b[49m\u001b[43m)\u001b[49m\n",
      "\u001b[0;31mValueError\u001b[0m: operands could not be broadcast together with shapes (382,382) (383,382) "
     ]
    }
   ],
   "source": [
    "path_cube_hmi_crop='/media/javier/SSD_2/D06_region/datos_SDO-completos_IRIS_ALMA/SDO_data_cubic'+ \\\n",
    "                   '/cuboHMI_MAGT.npy'\n",
    "path_time_hmi_crop='/media/javier/SSD_2/D06_region/datos_SDO-completos_IRIS_ALMA/SDO_data_cubic'+ \\\n",
    "                   '/cuboHMI_MAGT_timeUTC.npy'\n",
    "path_hmi_crops='/media/javier/SSD_2/D06_region/datos_SDO-completos_IRIS_ALMA/SDO_COMPLETOS'+ \\\n",
    "               '/{}/crop/*.fits'.format('magt') \n",
    "cube_data_hmi=  np.load(path_cube_hmi_crop, allow_pickle=True) \n",
    "cube_time_hmi=  np.load(path_time_hmi_crop, allow_pickle=True)\n",
    "sdo_align_ima(cube_data_hmi, cube_time_hmi, timeutc, alma_rote, header['CDELT1A'],path_hmi_crops)"
   ]
  },
  {
   "cell_type": "markdown",
   "id": "1de1dd03-8322-4755-8cb8-97d620095bf5",
   "metadata": {},
   "source": [
    "## Aligning ALMA with SDO rotating  the entire solar disk and crops "
   ]
  },
  {
   "cell_type": "code",
   "execution_count": 8,
   "id": "e996af27-79de-4c07-9215-e7ef2c28f672",
   "metadata": {},
   "outputs": [
    {
     "name": "stdout",
     "output_type": "stream",
     "text": [
      "|-----------------SDO/AIA-94_THIN-------------------|\n",
      "scale_factor: 2.0003633333333335\n",
      "Rescaling AIA  images\n"
     ]
    },
    {
     "name": "stderr",
     "output_type": "stream",
     "text": [
      "100%|\u001b[32m██████████\u001b[0m| 226/226 [00:00<00:00, 519.42it/s]\n"
     ]
    },
    {
     "name": "stdout",
     "output_type": "stream",
     "text": [
      "________________________________________________________________________\n",
      "initial shape: (226, 191, 190) | rescaled shape: (226, 382, 380)\n",
      "______________________________________________________\n",
      "t_0_SDO = 2018-04-12 15:52:35.120000\n",
      "t_0_ALMA= 2018-04-12 15:52:31.992187\n",
      "______________________________________________________\n",
      "t_f_SDO = 2018-04-12 16:24:35.120000\n",
      "t_0_ALMA= 2018-04-12 16:24:40.246093\n",
      "______________________________________________________\n",
      "posicion_n_0: 35 | posicion_n_f: 195\n",
      "______________________________________________________\n",
      "|----Estimating Pearson and SSIM coeffients---- | \n"
     ]
    },
    {
     "name": "stderr",
     "output_type": "stream",
     "text": [
      "                                                                                                    1.04s/it]\u001b[0m\r"
     ]
    },
    {
     "name": "stdout",
     "output_type": "stream",
     "text": [
      "________________________________________________________________________\n",
      "x_max_pearson= 176 | y_max_pearson= 192 | r= 0.20634821809915121\n",
      "________________________________________________________________________\n",
      "x_max_ssim   = 173 | y_max_ssim   = 189 | r= 0.02836686535108312\n",
      "________________________________________________________________________\n",
      "|-----Helioprojective Coordinates-------|\n",
      "Pearson: (Tx, Ty) in arcsec -131.92371852439828 -399.5262860138532\n",
      "SSIM   : (Tx, Ty) in arcsec -132.82371815363877 -400.42628132421066\n",
      "|-----------------SDO/AIA-131_THIN-------------------|\n",
      "scale_factor: 2.002326666666667\n",
      "Rescaling AIA  images\n"
     ]
    },
    {
     "name": "stderr",
     "output_type": "stream",
     "text": [
      "100%|\u001b[32m██████████\u001b[0m| 226/226 [00:00<00:00, 549.33it/s]\n"
     ]
    },
    {
     "name": "stdout",
     "output_type": "stream",
     "text": [
      "________________________________________________________________________\n",
      "initial shape: (226, 190, 191) | rescaled shape: (226, 380, 382)\n",
      "______________________________________________________\n",
      "t_0_SDO = 2018-04-12 15:52:30.620000\n",
      "t_0_ALMA= 2018-04-12 15:52:31.992187\n",
      "______________________________________________________\n",
      "t_f_SDO = 2018-04-12 16:24:42.620000\n",
      "t_0_ALMA= 2018-04-12 16:24:40.246093\n",
      "______________________________________________________\n",
      "posicion_n_0: 35 | posicion_n_f: 196\n",
      "______________________________________________________\n",
      "|----Estimating Pearson and SSIM coeffients---- | \n"
     ]
    },
    {
     "name": "stderr",
     "output_type": "stream",
     "text": [
      "                                                                                                    1.21s/it]\u001b[0m\r"
     ]
    },
    {
     "name": "stdout",
     "output_type": "stream",
     "text": [
      "________________________________________________________________________\n",
      "x_max_pearson= 179 | y_max_pearson= 186 | r= 0.5152011507960561\n",
      "________________________________________________________________________\n",
      "x_max_ssim   = 179 | y_max_ssim   = 188 | r= 0.1427240822066331\n",
      "________________________________________________________________________\n",
      "|-----Helioprojective Coordinates-------|\n",
      "Pearson: (Tx, Ty) in arcsec -131.21232428587973 -400.94439986193186\n",
      "SSIM   : (Tx, Ty) in arcsec -131.21232428587973 -400.34440224700427\n",
      "|-----------------SDO/AIA-171_THIN-------------------|\n",
      "scale_factor: 1.9982966666666668\n",
      "Rescaling AIA  images\n"
     ]
    },
    {
     "name": "stderr",
     "output_type": "stream",
     "text": [
      "100%|\u001b[32m██████████\u001b[0m| 225/225 [00:00<00:00, 469.09it/s]\n"
     ]
    },
    {
     "name": "stdout",
     "output_type": "stream",
     "text": [
      "________________________________________________________________________\n",
      "initial shape: (225, 191, 191) | rescaled shape: (225, 382, 382)\n",
      "______________________________________________________\n",
      "t_0_SDO = 2018-04-12 15:52:33.350000\n",
      "t_0_ALMA= 2018-04-12 15:52:31.992187\n",
      "______________________________________________________\n",
      "t_f_SDO = 2018-04-12 16:24:45.350000\n",
      "t_0_ALMA= 2018-04-12 16:24:40.246093\n",
      "______________________________________________________\n",
      "posicion_n_0: 35 | posicion_n_f: 196\n",
      "______________________________________________________\n",
      "|----Estimating Pearson and SSIM coeffients---- | \n"
     ]
    },
    {
     "name": "stderr",
     "output_type": "stream",
     "text": [
      "                                                                                                    1.28s/it]\u001b[0m\r"
     ]
    },
    {
     "name": "stdout",
     "output_type": "stream",
     "text": [
      "________________________________________________________________________\n",
      "x_max_pearson= 181 | y_max_pearson= 183 | r= 0.43390259796503866\n",
      "________________________________________________________________________\n",
      "x_max_ssim   = 198 | y_max_ssim   = 179 | r= 0.20870726129573425\n",
      "________________________________________________________________________\n",
      "|-----Helioprojective Coordinates-------|\n",
      "Pearson: (Tx, Ty) in arcsec -130.82795564364642 -401.78260662043255\n",
      "SSIM   : (Tx, Ty) in arcsec -125.72795761656016 -402.9826080089964\n",
      "|-----------------SDO/AIA-193_THIN-------------------|\n",
      "scale_factor: 2.00238\n",
      "Rescaling AIA  images\n"
     ]
    },
    {
     "name": "stderr",
     "output_type": "stream",
     "text": [
      "100%|\u001b[32m██████████\u001b[0m| 225/225 [00:00<00:00, 469.78it/s]\n"
     ]
    },
    {
     "name": "stdout",
     "output_type": "stream",
     "text": [
      "________________________________________________________________________\n",
      "initial shape: (225, 191, 190) | rescaled shape: (225, 382, 380)\n",
      "______________________________________________________\n",
      "t_0_SDO = 2018-04-12 15:52:28.840000\n",
      "t_0_ALMA= 2018-04-12 15:52:31.992187\n",
      "______________________________________________________\n",
      "t_f_SDO = 2018-04-12 16:24:40.840000\n",
      "t_0_ALMA= 2018-04-12 16:24:40.246093\n",
      "______________________________________________________\n",
      "posicion_n_0: 35 | posicion_n_f: 196\n",
      "______________________________________________________\n",
      "|----Estimating Pearson and SSIM coeffients---- | \n"
     ]
    },
    {
     "name": "stderr",
     "output_type": "stream",
     "text": [
      "                                                                                                    1.09s/it]\u001b[0m\r"
     ]
    },
    {
     "name": "stdout",
     "output_type": "stream",
     "text": [
      "________________________________________________________________________\n",
      "x_max_pearson= 179 | y_max_pearson= 183 | r= 0.420293541760522\n",
      "________________________________________________________________________\n",
      "x_max_ssim   = 177 | y_max_ssim   = 183 | r= 0.1880899222140539\n",
      "________________________________________________________________________\n",
      "|-----Helioprojective Coordinates-------|\n",
      "Pearson: (Tx, Ty) in arcsec -131.14611038309522 -402.0716842923947\n",
      "SSIM   : (Tx, Ty) in arcsec -131.74611013941467 -402.0716835470477\n",
      "|-----------------SDO/AIA-211_THIN-------------------|\n",
      "scale_factor: 2.002526666666667\n",
      "Rescaling AIA  images\n"
     ]
    },
    {
     "name": "stderr",
     "output_type": "stream",
     "text": [
      "100%|\u001b[32m██████████\u001b[0m| 225/225 [00:00<00:00, 482.40it/s]\n"
     ]
    },
    {
     "name": "stdout",
     "output_type": "stream",
     "text": [
      "________________________________________________________________________\n",
      "initial shape: (225, 191, 191) | rescaled shape: (225, 382, 382)\n",
      "______________________________________________________\n",
      "t_0_SDO = 2018-04-12 15:52:33.630000\n",
      "t_0_ALMA= 2018-04-12 15:52:31.992187\n",
      "______________________________________________________\n",
      "t_f_SDO = 2018-04-12 16:24:45.630000\n",
      "t_0_ALMA= 2018-04-12 16:24:40.246093\n",
      "______________________________________________________\n",
      "posicion_n_0: 35 | posicion_n_f: 196\n",
      "______________________________________________________\n",
      "|----Estimating Pearson and SSIM coeffients---- | \n"
     ]
    },
    {
     "name": "stderr",
     "output_type": "stream",
     "text": [
      "                                                                                                    1.18s/it]\u001b[0m\r"
     ]
    },
    {
     "name": "stdout",
     "output_type": "stream",
     "text": [
      "________________________________________________________________________\n",
      "x_max_pearson= 179 | y_max_pearson= 181 | r= 0.5279561821945644\n",
      "________________________________________________________________________\n",
      "x_max_ssim   = 176 | y_max_ssim   = 183 | r= 0.22135715929807623\n",
      "________________________________________________________________________\n",
      "|-----Helioprojective Coordinates-------|\n",
      "Pearson: (Tx, Ty) in arcsec -131.5249847441446 -402.7625227853053\n",
      "SSIM   : (Tx, Ty) in arcsec -132.4249843757134 -402.16252406881483\n",
      "|-----------------SDO/AIA-304_THIN-------------------|\n",
      "scale_factor: 2.00055\n",
      "Rescaling AIA  images\n"
     ]
    },
    {
     "name": "stderr",
     "output_type": "stream",
     "text": [
      "100%|\u001b[32m██████████\u001b[0m| 225/225 [00:00<00:00, 534.38it/s]\n"
     ]
    },
    {
     "name": "stdout",
     "output_type": "stream",
     "text": [
      "________________________________________________________________________\n",
      "initial shape: (225, 191, 191) | rescaled shape: (225, 382, 382)\n",
      "______________________________________________________\n",
      "t_0_SDO = 2018-04-12 15:52:29.140000\n",
      "t_0_ALMA= 2018-04-12 15:52:31.992187\n",
      "______________________________________________________\n",
      "t_f_SDO = 2018-04-12 16:24:41.120000\n",
      "t_0_ALMA= 2018-04-12 16:24:40.246093\n",
      "______________________________________________________\n",
      "posicion_n_0: 35 | posicion_n_f: 196\n",
      "______________________________________________________\n",
      "|----Estimating Pearson and SSIM coeffients---- | \n"
     ]
    },
    {
     "name": "stderr",
     "output_type": "stream",
     "text": [
      "                                                                                                    1.50s/it]\u001b[0m\r"
     ]
    },
    {
     "name": "stdout",
     "output_type": "stream",
     "text": [
      "________________________________________________________________________\n",
      "x_max_pearson= 170 | y_max_pearson= 199 | r= 0.54551989316843\n",
      "________________________________________________________________________\n",
      "x_max_ssim   = 165 | y_max_ssim   = 200 | r= 0.2495497024104359\n",
      "________________________________________________________________________\n",
      "|-----Helioprojective Coordinates-------|\n",
      "Pearson: (Tx, Ty) in arcsec -133.96221978240646 -397.45384838079826\n",
      "SSIM   : (Tx, Ty) in arcsec -135.46221914258786 -397.1538476708931\n",
      "|-----------------SDO/AIA-335_THIN-------------------|\n",
      "scale_factor: 2.0024566666666668\n",
      "Rescaling AIA  images\n"
     ]
    },
    {
     "name": "stderr",
     "output_type": "stream",
     "text": [
      "100%|\u001b[32m██████████\u001b[0m| 224/224 [00:00<00:00, 280.37it/s]\n"
     ]
    },
    {
     "name": "stdout",
     "output_type": "stream",
     "text": [
      "________________________________________________________________________\n",
      "initial shape: (224, 190, 191) | rescaled shape: (224, 380, 382)\n",
      "______________________________________________________\n",
      "t_0_SDO = 2018-04-12 15:52:36.640000\n",
      "t_0_ALMA= 2018-04-12 15:52:31.992187\n",
      "______________________________________________________\n",
      "t_f_SDO = 2018-04-12 16:24:36.630000\n",
      "t_0_ALMA= 2018-04-12 16:24:40.246093\n",
      "______________________________________________________\n",
      "posicion_n_0: 35 | posicion_n_f: 195\n",
      "______________________________________________________\n",
      "|----Estimating Pearson and SSIM coeffients---- | \n"
     ]
    },
    {
     "name": "stderr",
     "output_type": "stream",
     "text": [
      "                                                                                                    2.18s/it]\u001b[0m\r"
     ]
    },
    {
     "name": "stdout",
     "output_type": "stream",
     "text": [
      "________________________________________________________________________\n",
      "x_max_pearson= 178 | y_max_pearson= 184 | r= 0.496981149211965\n",
      "________________________________________________________________________\n",
      "x_max_ssim   = 176 | y_max_ssim   = 187 | r= 0.07575443605668683\n",
      "________________________________________________________________________\n",
      "|-----Helioprojective Coordinates-------|\n",
      "Pearson: (Tx, Ty) in arcsec -131.76920179324225 -401.51771030880997\n",
      "SSIM   : (Tx, Ty) in arcsec -132.3692015472334 -400.61771314908987\n",
      "|-----------------SDO/AIA-1600-------------------|\n",
      "scale_factor: 2.0312433333333337\n",
      "Rescaling AIA  images\n"
     ]
    },
    {
     "name": "stderr",
     "output_type": "stream",
     "text": [
      "100%|\u001b[32m██████████\u001b[0m| 112/112 [00:00<00:00, 299.09it/s]\n"
     ]
    },
    {
     "name": "stdout",
     "output_type": "stream",
     "text": [
      "________________________________________________________________________\n",
      "initial shape: (112, 188, 188) | rescaled shape: (112, 382, 382)\n",
      "______________________________________________________\n",
      "t_0_SDO = 2018-04-12 15:52:38.130000\n",
      "t_0_ALMA= 2018-04-12 15:52:31.992187\n",
      "______________________________________________________\n",
      "t_f_SDO = 2018-04-12 16:24:38.120000\n",
      "t_0_ALMA= 2018-04-12 16:24:40.246093\n",
      "______________________________________________________\n",
      "posicion_n_0: 17 | posicion_n_f: 97\n",
      "______________________________________________________\n",
      "|----Estimating Pearson and SSIM coeffients---- | \n"
     ]
    },
    {
     "name": "stderr",
     "output_type": "stream",
     "text": [
      "                                                                                                    2.06s/it]\u001b[0m\r"
     ]
    },
    {
     "name": "stdout",
     "output_type": "stream",
     "text": [
      "________________________________________________________________________\n",
      "x_max_pearson= 181 | y_max_pearson= 201 | r= 0.5121977971544621\n",
      "________________________________________________________________________\n",
      "x_max_ssim   = 181 | y_max_ssim   = 200 | r= 0.11797204444871022\n",
      "________________________________________________________________________\n",
      "|-----Helioprojective Coordinates-------|\n",
      "Pearson: (Tx, Ty) in arcsec -130.79667650396004 -396.8439279193414\n",
      "SSIM   : (Tx, Ty) in arcsec -130.79667650396004 -397.143926747753\n",
      "|-----------------SDO/AIA-1700-------------------|\n",
      "scale_factor: 2.0429933333333334\n",
      "Rescaling AIA  images\n"
     ]
    },
    {
     "name": "stderr",
     "output_type": "stream",
     "text": [
      "100%|\u001b[32m██████████\u001b[0m| 111/111 [00:00<00:00, 262.42it/s]\n"
     ]
    },
    {
     "name": "stdout",
     "output_type": "stream",
     "text": [
      "________________________________________________________________________\n",
      "initial shape: (111, 187, 186) | rescaled shape: (111, 382, 380)\n",
      "______________________________________________________\n",
      "t_0_SDO = 2018-04-12 15:52:28.720000\n",
      "t_0_ALMA= 2018-04-12 15:52:31.992187\n",
      "______________________________________________________\n",
      "t_f_SDO = 2018-04-12 16:24:28.720000\n",
      "t_0_ALMA= 2018-04-12 16:24:40.246093\n",
      "______________________________________________________\n",
      "posicion_n_0: 17 | posicion_n_f: 96\n",
      "______________________________________________________\n",
      "|----Estimating Pearson and SSIM coeffients---- | \n"
     ]
    },
    {
     "name": "stderr",
     "output_type": "stream",
     "text": [
      "                                                                                                    2.06s/it]\u001b[0m"
     ]
    },
    {
     "name": "stdout",
     "output_type": "stream",
     "text": [
      "________________________________________________________________________\n",
      "x_max_pearson= 179 | y_max_pearson= 201 | r= 0.47558031154074\n",
      "________________________________________________________________________\n",
      "x_max_ssim   = 179 | y_max_ssim   = 200 | r= 0.09812801716708394\n",
      "________________________________________________________________________\n",
      "|-----Helioprojective Coordinates-------|\n",
      "Pearson: (Tx, Ty) in arcsec -131.04505892260931 -396.80359219845514\n",
      "SSIM   : (Tx, Ty) in arcsec -131.04505892260931 -397.10359102681434\n"
     ]
    },
    {
     "name": "stderr",
     "output_type": "stream",
     "text": [
      "\r"
     ]
    }
   ],
   "source": [
    "#wl = [94]\n",
    "wl = [94, 131, 171, 193, 211, 304, 335, 1600, 1700]\n",
    "\n",
    "for i in wl:\n",
    "    #--------------Loading data cube in forma npy for every AIA filter------------------------------\n",
    "    path_cube='/media/javier/SSD_2/D06_region/datos_SDO-completos_IRIS_ALMA/SDO_data_cubic_rotate_and_crop'+ \\\n",
    "              '/rotate_all_disk_and_crop_AIA_{filter}.npy'.format(filter=i)\n",
    "    # The time vector  not affected by rotation\n",
    "    path_time='/media/javier/SSD_2/D06_region/datos_SDO-completos_IRIS_ALMA/SDO_data_cubic' + \\\n",
    "              '/cuboAIA_timeUTC_{filter}.npy'.format(filter=i)\n",
    "    cube_data_load=  np.load(path_cube, allow_pickle=True).astype(np.float32) \n",
    "    cube_time_load=  np.load(path_time, allow_pickle=True)\n",
    "    #--------------Loading crops in .fits  format ------------------------------\n",
    "    path_crop ='/media/javier/SSD_2/D06_region/datos_SDO-completos_IRIS_ALMA/SDO_COMPLETOS'+ \\\n",
    "               '/{}/rotate_all_disk_and_crop/*.fits'.format(i) \n",
    "    #---------------Using function sdo_align_ima ----------------------\n",
    "    sdo_align_ima(cube_data_load, cube_time_load, timeutc, alma_rote, header['CDELT1A'],path_crop)"
   ]
  },
  {
   "cell_type": "markdown",
   "id": "bee5fc1b-1da2-468e-b514-02fe34167845",
   "metadata": {},
   "source": [
    "##  Aligning ALMA with SDO croping and then rotated"
   ]
  },
  {
   "cell_type": "code",
   "execution_count": 8,
   "id": "7f5da972-2dcc-4455-8eb6-70b1129dc9bd",
   "metadata": {},
   "outputs": [
    {
     "name": "stdout",
     "output_type": "stream",
     "text": [
      "|-----------------SDO/AIA-304_THIN-------------------|\n",
      "scale_factor: 2.00055\n",
      "Rescaling AIA  images\n"
     ]
    },
    {
     "name": "stderr",
     "output_type": "stream",
     "text": [
      "100%|\u001b[32m████████████████████████████████████████\u001b[0m| 225/225 [00:00<00:00, 609.21it/s]\u001b[0m\n"
     ]
    },
    {
     "name": "stdout",
     "output_type": "stream",
     "text": [
      "________________________________________________________________________\n",
      "initial shape: (225, 193, 193) | rescaled shape: (225, 386, 386)\n",
      "______________________________________________________\n",
      "t_0_SDO = 2018-04-12 15:52:29.140000\n",
      "t_0_ALMA= 2018-04-12 15:52:31.992187\n",
      "______________________________________________________\n",
      "t_f_SDO = 2018-04-12 16:24:41.120000\n",
      "t_0_ALMA= 2018-04-12 16:24:40.246093\n",
      "______________________________________________________\n",
      "posicion_n_0: 35 | posicion_n_f: 196\n",
      "______________________________________________________\n",
      "|----Estimating Pearson and SSIM coeffients---- | \n"
     ]
    },
    {
     "name": "stderr",
     "output_type": "stream",
     "text": [
      "                                                                                                    1.00it/s]\u001b[0m"
     ]
    },
    {
     "name": "stdout",
     "output_type": "stream",
     "text": [
      "________________________________________________________________________\n",
      "x_max_pearson= 173 | y_max_pearson= 200 | r= 0.5433225107691669\n",
      "________________________________________________________________________\n",
      "x_max_ssim   = 169 | y_max_ssim   = 201 | r= 0.23257274117278373\n",
      "________________________________________________________________________\n",
      "|-----Helioprojective Coordinates-------|\n",
      "Pearson: (Tx, Ty) in arcsec -133.93086438719183 -397.4334329506414\n",
      "SSIM   : (Tx, Ty) in arcsec -135.13086387654766 -397.13343261983226\n",
      "________________________________________________________________________\n",
      "________________________________________________________________________\n",
      "________________________________________________________________________\n"
     ]
    },
    {
     "name": "stderr",
     "output_type": "stream",
     "text": [
      "\r"
     ]
    }
   ],
   "source": [
    "wl = [304]\n",
    "#wl = [94, 131, 171, 193, 211, 304, 335, 1600, 1700]\n",
    "\n",
    "for i in wl:\n",
    "    #--------------Loading data cube in forma npy for every AIA filter------------------------------\n",
    "    path_cube='/media/javier/SSD_2/D06_region/datos_SDO-completos_IRIS_ALMA/SDO_data_cubic_crop_and_rotate'+ \\\n",
    "              '/cubo_crop_and_rotate_AIA_{filter}.npy'.format(filter=i)\n",
    "    # The time vector  not affected by rotation\n",
    "    path_time='/media/javier/SSD_2/D06_region/datos_SDO-completos_IRIS_ALMA/SDO_data_cubic' + \\\n",
    "              '/cuboAIA_timeUTC_{filter}.npy'.format(filter=i)\n",
    "    cube_data_load=  np.load(path_cube, allow_pickle=True).astype(np.float32) \n",
    "    cube_time_load=  np.load(path_time, allow_pickle=True)\n",
    "    #--------------Loading crops in .fits  format ------------------------------\n",
    "    path_crop ='/media/javier/SSD_2/D06_region/datos_SDO-completos_IRIS_ALMA/SDO_COMPLETOS'+ \\\n",
    "               '/{}/crop_and_rotate/*.fits'.format(i) \n",
    "    #---------------Using function sdo_align_ima ----------------------\n",
    "    sdo_align_ima(cube_data_load, cube_time_load, timeutc, alma_rote, header['CDELT1A'],path_crop)"
   ]
  }
 ],
 "metadata": {
  "kernelspec": {
   "display_name": "Python 3 (ipykernel)",
   "language": "python",
   "name": "python3"
  },
  "language_info": {
   "codemirror_mode": {
    "name": "ipython",
    "version": 3
   },
   "file_extension": ".py",
   "mimetype": "text/x-python",
   "name": "python",
   "nbconvert_exporter": "python",
   "pygments_lexer": "ipython3",
   "version": "3.9.13"
  },
  "vscode": {
   "interpreter": {
    "hash": "75bc6cfcf0e3c1abe48e11e1972f657f82648c0b414313e17418118d7d74e5cf"
   }
  }
 },
 "nbformat": 4,
 "nbformat_minor": 5
}

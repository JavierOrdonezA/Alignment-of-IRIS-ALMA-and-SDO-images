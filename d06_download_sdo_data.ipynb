{
 "cells": [
  {
   "cell_type": "markdown",
   "metadata": {},
   "source": [
    "# \"Scrip para Descargar Datos del SDO con Consideración de la Rotación Diferencial del Sol desde una Base de Datos en Formato JSON\""
   ]
  },
  {
   "cell_type": "code",
   "execution_count": 1,
   "id": "afc3dd1a",
   "metadata": {},
   "outputs": [],
   "source": [
    "import pandas as pd \n",
    "from astropy.time import Time\n",
    "from sunpy.net import Fido\n",
    "from sunpy.net import attrs as a\n",
    "from astropy.coordinates import SkyCoord\n",
    "from astropy.io import fits\n",
    "import astropy.units as u\n",
    "import sunpy.map\n",
    "import glob\n",
    "import os\n",
    "\n",
    "import warnings\n",
    "\n",
    "warnings.filterwarnings(\"ignore\")"
   ]
  },
  {
   "cell_type": "code",
   "execution_count": null,
   "metadata": {},
   "outputs": [],
   "source": [
    "def get_query(item, bottom_left, top_right, start_time, ends_time):\n",
    "    \"\"\"\n",
    "    Returns a query object based on the specified item and parameters.\n",
    "\n",
    "    The function checks if the item is within predefined cadence lists (aia_cad_12, aia_cad_24)\n",
    "    or if it matches 'hmi'. Depending on the case, it creates and returns a query object\n",
    "    with appropriate parameters.\n",
    "\n",
    "    Parameters:\n",
    "    - item (str)            : The item to check in the cadence lists or for 'hmi' match.\n",
    "    - bottom_left, top_right: Coordinates for the cutout area.\n",
    "    - start_time, ends_time : Time range for the query.\n",
    "\n",
    "    Returns:\n",
    "    - query: A search query object or None if the item doesn't match any criteria.\n",
    "    \"\"\"\n",
    "\n",
    "    # Define the cadence lists for AIA\n",
    "    aia_cad_12 = [94, 131, 171, 193, 211, 304, 335]\n",
    "    aia_cad_24 = [1600, 1700]\n",
    "\n",
    "    # Check if the item is in the aia_cad_12 list\n",
    "    if item in aia_cad_12:\n",
    "        cadence = 12\n",
    "        cutout = a.jsoc.Cutout(bottom_left, top_right=top_right, tracking=True)\n",
    "        query = Fido.search(\n",
    "            a.Time(start_time, ends_time),\n",
    "            a.Wavelength(item*u.angstrom),\n",
    "            a.Sample(cadence*u.second),\n",
    "            a.jsoc.Series.aia_lev1_euv_12s,\n",
    "            a.jsoc.Notify('fjordoneza@unal.edu.co'),\n",
    "            a.jsoc.Segment.image,\n",
    "            cutout)\n",
    "\n",
    "    # Check if the item is in the aia_cad_24 list\n",
    "    elif item in aia_cad_24:\n",
    "        cadence = 24\n",
    "        cutout = a.jsoc.Cutout(bottom_left, top_right=top_right, tracking=True)\n",
    "        query = Fido.search(\n",
    "            a.Time(start_time, ends_time),\n",
    "            a.Wavelength(item*u.angstrom),\n",
    "            a.Sample(cadence*u.second),\n",
    "            a.jsoc.Series('aia.lev1_uv_24s'),\n",
    "            a.jsoc.Notify('fjordoneza@unal.edu.co'),\n",
    "            a.jsoc.Segment.image,\n",
    "            cutout)\n",
    "\n",
    "    # Check if the item matches 'hmi' (case insensitive)\n",
    "    elif item.lower() == 'hmi':\n",
    "        cutout = a.jsoc.Cutout(bottom_left, top_right=top_right, tracking=True)\n",
    "        cadence = 45\n",
    "        query = Fido.search(\n",
    "            a.Time(start_time, ends_time),\n",
    "            a.Sample(cadence*u.second),\n",
    "            a.jsoc.Series('hmi.M_45s'),\n",
    "            a.jsoc.Notify('fjordoneza@unal.edu.co'),\n",
    "            a.jsoc.Segment.magnetogram,\n",
    "            cutout)\n",
    "\n",
    "    else:\n",
    "        # Handle the case where the item is not in any list\n",
    "        query = None\n",
    "\n",
    "    return query"
   ]
  },
  {
   "cell_type": "markdown",
   "metadata": {},
   "source": [
    "## Reading parameters "
   ]
  },
  {
   "cell_type": "code",
   "execution_count": 2,
   "id": "a5535b6a",
   "metadata": {},
   "outputs": [
    {
     "data": {
      "text/html": [
       "<div>\n",
       "<style scoped>\n",
       "    .dataframe tbody tr th:only-of-type {\n",
       "        vertical-align: middle;\n",
       "    }\n",
       "\n",
       "    .dataframe tbody tr th {\n",
       "        vertical-align: top;\n",
       "    }\n",
       "\n",
       "    .dataframe thead th {\n",
       "        text-align: right;\n",
       "    }\n",
       "</style>\n",
       "<table border=\"1\" class=\"dataframe\">\n",
       "  <thead>\n",
       "    <tr style=\"text-align: right;\">\n",
       "      <th></th>\n",
       "      <th>ALMA</th>\n",
       "      <th>Unnamed: 1</th>\n",
       "      <th>SDO</th>\n",
       "      <th>Unnamed: 3</th>\n",
       "    </tr>\n",
       "  </thead>\n",
       "  <tbody>\n",
       "    <tr>\n",
       "      <th>0</th>\n",
       "      <td>Tx_helioprojective</td>\n",
       "      <td>-128.0</td>\n",
       "      <td>t_0_SDO\\n(YYYY-MM-DDTHH:MM:SS)</td>\n",
       "      <td>2018-04-12 15:52:01</td>\n",
       "    </tr>\n",
       "    <tr>\n",
       "      <th>1</th>\n",
       "      <td>Ty_helioprojective</td>\n",
       "      <td>-400.0</td>\n",
       "      <td>t_f_SDO\\n(YYYY-MM-DDTHH:MM:SS)</td>\n",
       "      <td>2018-04-12 16:25:20</td>\n",
       "    </tr>\n",
       "    <tr>\n",
       "      <th>2</th>\n",
       "      <td>x_size_snapshot</td>\n",
       "      <td>253.0</td>\n",
       "      <td>radio_crop_sdo</td>\n",
       "      <td>68.31</td>\n",
       "    </tr>\n",
       "    <tr>\n",
       "      <th>3</th>\n",
       "      <td>y_size_snapshot</td>\n",
       "      <td>253.0</td>\n",
       "      <td>NaN</td>\n",
       "      <td>NaN</td>\n",
       "    </tr>\n",
       "    <tr>\n",
       "      <th>4</th>\n",
       "      <td>ALMA_pix_size (arcsec)</td>\n",
       "      <td>0.3</td>\n",
       "      <td>NaN</td>\n",
       "      <td>NaN</td>\n",
       "    </tr>\n",
       "    <tr>\n",
       "      <th>5</th>\n",
       "      <td>NaN</td>\n",
       "      <td>NaN</td>\n",
       "      <td>NaN</td>\n",
       "      <td>NaN</td>\n",
       "    </tr>\n",
       "    <tr>\n",
       "      <th>6</th>\n",
       "      <td>NaN</td>\n",
       "      <td>NaN</td>\n",
       "      <td>NaN</td>\n",
       "      <td>NaN</td>\n",
       "    </tr>\n",
       "    <tr>\n",
       "      <th>7</th>\n",
       "      <td>Must t_0, t_f must be chosen \\nIn the same ALM...</td>\n",
       "      <td>NaN</td>\n",
       "      <td>NaN</td>\n",
       "      <td>NaN</td>\n",
       "    </tr>\n",
       "    <tr>\n",
       "      <th>8</th>\n",
       "      <td>Radio_crop: were chosen so that it had\\nA larg...</td>\n",
       "      <td>NaN</td>\n",
       "      <td>NaN</td>\n",
       "      <td>NaN</td>\n",
       "    </tr>\n",
       "  </tbody>\n",
       "</table>\n",
       "</div>"
      ],
      "text/plain": [
       "                                                ALMA  Unnamed: 1  \\\n",
       "0                                 Tx_helioprojective      -128.0   \n",
       "1                                 Ty_helioprojective      -400.0   \n",
       "2                                    x_size_snapshot       253.0   \n",
       "3                                    y_size_snapshot       253.0   \n",
       "4                             ALMA_pix_size (arcsec)         0.3   \n",
       "5                                                NaN         NaN   \n",
       "6                                                NaN         NaN   \n",
       "7  Must t_0, t_f must be chosen \\nIn the same ALM...         NaN   \n",
       "8  Radio_crop: were chosen so that it had\\nA larg...         NaN   \n",
       "\n",
       "                              SDO           Unnamed: 3  \n",
       "0  t_0_SDO\\n(YYYY-MM-DDTHH:MM:SS)  2018-04-12 15:52:01  \n",
       "1  t_f_SDO\\n(YYYY-MM-DDTHH:MM:SS)  2018-04-12 16:25:20  \n",
       "2                  radio_crop_sdo                68.31  \n",
       "3                             NaN                  NaN  \n",
       "4                             NaN                  NaN  \n",
       "5                             NaN                  NaN  \n",
       "6                             NaN                  NaN  \n",
       "7                             NaN                  NaN  \n",
       "8                             NaN                  NaN  "
      ]
     },
     "execution_count": 2,
     "metadata": {},
     "output_type": "execute_result"
    }
   ],
   "source": [
    "parameters_d06 = pd.read_excel('parameters_d06.xlsx')\n",
    "parameters_d06 "
   ]
  },
  {
   "cell_type": "code",
   "execution_count": 3,
   "id": "dbd3ece3",
   "metadata": {},
   "outputs": [],
   "source": [
    "t_0, t_f = parameters_d06.iloc[0][3], parameters_d06.iloc[1][3]\n",
    "Tx, Ty   = parameters_d06.iloc[0][1], parameters_d06.iloc[1][1]\n",
    "aiasq    = parameters_d06.iloc[2][3]"
   ]
  },
  {
   "cell_type": "code",
   "execution_count": 4,
   "id": "2b73c047",
   "metadata": {},
   "outputs": [],
   "source": [
    "start_time  = Time(t_0.isoformat(), scale='utc', format='isot')\n",
    "ends_time   = Time(t_f.isoformat(), scale='utc', format='isot')\n",
    "\n",
    "top_right   = SkyCoord((Tx+aiasq)*u.arcsec, (Ty+aiasq)*u.arcsec, obstime=start_time, observer=\"earth\", frame=\"helioprojective\")\n",
    "bottom_left = SkyCoord((Tx-aiasq)*u.arcsec, (Ty-aiasq)*u.arcsec, obstime=start_time, observer=\"earth\", frame=\"helioprojective\")"
   ]
  },
  {
   "cell_type": "code",
   "execution_count": 6,
   "metadata": {},
   "outputs": [],
   "source": [
    "# List of wavelengths to create directories for\n",
    "wl = [94, 131, 171, 193, 211, 304, 335, 1600, 1700]\n",
    "# Create the main 'SDO' directory if it does not exist\n",
    "# The 'exist_ok=True' parameter allows the function to not raise an error if the directory already exists\n",
    "os.makedirs('SDO', exist_ok=True)\n",
    "# Loop through each wavelength in the list\n",
    "for wavelength in wl:\n",
    "    # Create a directory for each wavelength and its subdirectories ('crop' and 'crop_and_rotate')\n",
    "    # The directories are created inside the 'SDO' directory\n",
    "    os.makedirs(f'SDO/{wavelength}/crop', exist_ok=True)\n",
    "    os.makedirs(f'SDO/{wavelength}/crop_and_rotate', exist_ok=True)\n",
    "# Additionally, create directories for 'magt' and its subdirectories ('crop' and 'crop_and_rotate')\n",
    "# These are also created inside the 'SDO' directory\n",
    "os.makedirs('SDO/hmi/crop', exist_ok=True)\n",
    "os.makedirs('SDO/hmi/crop_and_rotate', exist_ok=True)"
   ]
  },
  {
   "cell_type": "code",
   "execution_count": 7,
   "metadata": {},
   "outputs": [],
   "source": [
    "data_for_download= [94, 131, 171, 193, 211, 304, 335, 1600, 1700, 'hmi']\n",
    "#data_for_download= [1700, 'hmi']"
   ]
  },
  {
   "cell_type": "code",
   "execution_count": 17,
   "metadata": {},
   "outputs": [
    {
     "name": "stdout",
     "output_type": "stream",
     "text": [
      "Export request pending. [id=JSOC_20231125_210, status=2]\n",
      "Waiting for 0 seconds...\n",
      "3 URLs found for download. Full request totalling 1MB\n"
     ]
    },
    {
     "data": {
      "application/vnd.jupyter.widget-view+json": {
       "model_id": "09c1a30fbeb24aa49ccada8a6813c9b3",
       "version_major": 2,
       "version_minor": 0
      },
      "text/plain": [
       "Files Downloaded:   0%|          | 0/3 [00:00<?, ?file/s]"
      ]
     },
     "metadata": {},
     "output_type": "display_data"
    },
    {
     "data": {
      "application/vnd.jupyter.widget-view+json": {
       "model_id": "3928564d8e364884afb2bca9b4db3fc1",
       "version_major": 2,
       "version_minor": 0
      },
      "text/plain": [
       "aia.lev1_uv_24s.2018-04-12T155147Z.1700.image.fits:   0%|          | 0.00/83.5k [00:00<?, ?B/s]"
      ]
     },
     "metadata": {},
     "output_type": "display_data"
    },
    {
     "data": {
      "application/vnd.jupyter.widget-view+json": {
       "model_id": "f2edb820454b4355b194e6d3dacdb385",
       "version_major": 2,
       "version_minor": 0
      },
      "text/plain": [
       "aia.lev1_uv_24s.2018-04-12T155211Z.1700.image.fits:   0%|          | 0.00/83.5k [00:00<?, ?B/s]"
      ]
     },
     "metadata": {},
     "output_type": "display_data"
    },
    {
     "data": {
      "application/vnd.jupyter.widget-view+json": {
       "model_id": "3c0263ea66df48f3a31213e35590e6fd",
       "version_major": 2,
       "version_minor": 0
      },
      "text/plain": [
       "aia.lev1_uv_24s.2018-04-12T155235Z.1700.image.fits:   0%|          | 0.00/83.5k [00:00<?, ?B/s]"
      ]
     },
     "metadata": {},
     "output_type": "display_data"
    },
    {
     "name": "stdout",
     "output_type": "stream",
     "text": [
      "Export request pending. [id=JSOC_20231125_192, status=2]\n",
      "Waiting for 0 seconds...\n",
      "2 URLs found for download. Full request totalling 1MB\n"
     ]
    },
    {
     "data": {
      "application/vnd.jupyter.widget-view+json": {
       "model_id": "97d8f8adcfac4e5fa6e25c2e71bbafc9",
       "version_major": 2,
       "version_minor": 0
      },
      "text/plain": [
       "Files Downloaded:   0%|          | 0/2 [00:00<?, ?file/s]"
      ]
     },
     "metadata": {},
     "output_type": "display_data"
    },
    {
     "data": {
      "application/vnd.jupyter.widget-view+json": {
       "model_id": "5e1176bad81c4de088aafc427b74b30f",
       "version_major": 2,
       "version_minor": 0
      },
      "text/plain": [
       "hmi.m_45s.20180412_155230_TAI.2.magnetogram.fits:   0%|          | 0.00/104k [00:00<?, ?B/s]"
      ]
     },
     "metadata": {},
     "output_type": "display_data"
    },
    {
     "data": {
      "application/vnd.jupyter.widget-view+json": {
       "model_id": "492c106e011f4c00a5542d75f8f63117",
       "version_major": 2,
       "version_minor": 0
      },
      "text/plain": [
       "hmi.m_45s.20180412_155315_TAI.2.magnetogram.fits:   0%|          | 0.00/104k [00:00<?, ?B/s]"
      ]
     },
     "metadata": {},
     "output_type": "display_data"
    }
   ],
   "source": [
    "for data_download in   data_for_download:\n",
    "    item = data_download\n",
    "    query_data= get_query(item, bottom_left, top_right, start_time, ends_time)\n",
    "    query_data\n",
    "\n",
    "    file_download = Fido.fetch(query_data, path='SDO/{}'.format(item))\n",
    "    file_download =sorted(file_download)\n",
    "\n",
    "\n",
    "    tmp = sunpy.map.Map(file_download)\n",
    "\n",
    "    aia_seq_totated = [tmp[i].rotate(use_scipy=True, missing=0)  for i in range(len(tmp))]\n",
    "\n",
    "    new_files_rotated = [ 'SDO/{}/crop_and_rotate/'.format(item.split('/')[1]) + item.split('/')[2][:-5] + '_crop_and_rotate.fits' \n",
    "                          for item in file_download]\n",
    "    new_files         = ['SDO/{}/crop/'.format(item.split('/')[1]) + item.split('/')[2][:-5] + '_crop.fits'\n",
    "                         for item in file_download]\n",
    "\n",
    "    for img, file_name in zip(aia_seq_totated, new_files_rotated):\n",
    "                img.save     (file_name, overwrite=True         )\n",
    "\n",
    "    for img, file_name in zip(tmp, new_files           ):\n",
    "                img.save     (file_name, overwrite=True)"
   ]
  },
  {
   "cell_type": "code",
   "execution_count": 15,
   "metadata": {},
   "outputs": [
    {
     "name": "stdout",
     "output_type": "stream",
     "text": [
      "Export request pending. [id=JSOC_20231125_192, status=2]\n",
      "Waiting for 0 seconds...\n",
      "2 URLs found for download. Full request totalling 1MB\n"
     ]
    },
    {
     "data": {
      "application/vnd.jupyter.widget-view+json": {
       "model_id": "8ed4f70d6ed94182be74e883475de6ff",
       "version_major": 2,
       "version_minor": 0
      },
      "text/plain": [
       "Files Downloaded:   0%|          | 0/2 [00:00<?, ?file/s]"
      ]
     },
     "metadata": {},
     "output_type": "display_data"
    }
   ],
   "source": [
    "item = 'hmi'\n",
    "#item = 1700\n",
    "\n",
    "query_data= get_query(item, bottom_left, top_right, start_time, ends_time)\n",
    "file_download = Fido.fetch(query_data, path='SDO/crop/{}'.format(item))\n",
    "file_download =sorted(file_download)\n",
    "\n",
    "tmp = sunpy.map.Map(file_download)\n",
    "\n",
    "aia_seq_totated = [tmp[i].rotate(use_scipy=True, missing=0)  for i in range(len(tmp))]\n",
    "\n",
    "new_files_rotated = [ 'SDO/{}/crop_and_rotate/'.format(item.split('/')[1]) + item.split('/')[2][:-5] + '_crop_and_rotate.fits' \n",
    "                        for item in file_download]\n",
    "#new_files         = ['SDO/{}/crop/'.format(item.split('/')[1]) + item.split('/')[2][:-5] + '_crop.fits'\n",
    "#                        for item in file_download]\n",
    "\n",
    "for img, file_name in zip(aia_seq_totated, new_files_rotated):\n",
    "            img.save     (file_name, overwrite=True         )\n",
    "\n",
    "for img, file_name in zip(tmp, new_files           ):\n",
    "            img.save     (file_name, overwrite=True)"
   ]
  },
  {
   "cell_type": "code",
   "execution_count": null,
   "id": "6ac4a013",
   "metadata": {},
   "outputs": [],
   "source": []
  },
  {
   "cell_type": "code",
   "execution_count": null,
   "id": "66879b54",
   "metadata": {},
   "outputs": [],
   "source": []
  },
  {
   "cell_type": "code",
   "execution_count": null,
   "id": "305789c6",
   "metadata": {},
   "outputs": [],
   "source": []
  },
  {
   "cell_type": "code",
   "execution_count": null,
   "id": "815bbf64",
   "metadata": {},
   "outputs": [],
   "source": []
  }
 ],
 "metadata": {
  "kernelspec": {
   "display_name": "Python 3 (ipykernel)",
   "language": "python",
   "name": "python3"
  },
  "language_info": {
   "codemirror_mode": {
    "name": "ipython",
    "version": 3
   },
   "file_extension": ".py",
   "mimetype": "text/x-python",
   "name": "python",
   "nbconvert_exporter": "python",
   "pygments_lexer": "ipython3",
   "version": "3.9.13"
  }
 },
 "nbformat": 4,
 "nbformat_minor": 5
}

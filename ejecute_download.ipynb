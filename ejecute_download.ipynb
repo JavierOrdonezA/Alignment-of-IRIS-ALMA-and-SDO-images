{
 "cells": [
  {
   "cell_type": "code",
   "execution_count": 1,
   "id": "feef5ede-bd98-4e34-9427-53be0dae158b",
   "metadata": {},
   "outputs": [],
   "source": [
    "import numpy as np\n",
    "import os\n",
    "import pandas as pd\n",
    "from function_used import *  #file where is some usefulls functions "
   ]
  },
  {
   "cell_type": "code",
   "execution_count": 2,
   "id": "9173ff61",
   "metadata": {},
   "outputs": [
    {
     "data": {
      "text/html": [
       "<div>\n",
       "<style scoped>\n",
       "    .dataframe tbody tr th:only-of-type {\n",
       "        vertical-align: middle;\n",
       "    }\n",
       "\n",
       "    .dataframe tbody tr th {\n",
       "        vertical-align: top;\n",
       "    }\n",
       "\n",
       "    .dataframe thead th {\n",
       "        text-align: right;\n",
       "    }\n",
       "</style>\n",
       "<table border=\"1\" class=\"dataframe\">\n",
       "  <thead>\n",
       "    <tr style=\"text-align: right;\">\n",
       "      <th></th>\n",
       "      <th>ALMA</th>\n",
       "      <th>Unnamed: 1</th>\n",
       "      <th>SDO</th>\n",
       "      <th>Unnamed: 3</th>\n",
       "    </tr>\n",
       "  </thead>\n",
       "  <tbody>\n",
       "    <tr>\n",
       "      <th>0</th>\n",
       "      <td>Tx_helioprojective</td>\n",
       "      <td>-128.0</td>\n",
       "      <td>t_0_SDO\\n(YYYY-MM-DDTHH:MM:SS)</td>\n",
       "      <td>2018-04-12 15:35:28</td>\n",
       "    </tr>\n",
       "    <tr>\n",
       "      <th>1</th>\n",
       "      <td>Ty_helioprojective</td>\n",
       "      <td>-400.0</td>\n",
       "      <td>t_f_SDO\\n(YYYY-MM-DDTHH:MM:SS)</td>\n",
       "      <td>2018-04-12 15:37:28</td>\n",
       "    </tr>\n",
       "    <tr>\n",
       "      <th>2</th>\n",
       "      <td>x_size_snapshot</td>\n",
       "      <td>253.0</td>\n",
       "      <td>radio_crop_sdo</td>\n",
       "      <td>68.31</td>\n",
       "    </tr>\n",
       "    <tr>\n",
       "      <th>3</th>\n",
       "      <td>y_size_snapshot</td>\n",
       "      <td>253.0</td>\n",
       "      <td>NaN</td>\n",
       "      <td>NaN</td>\n",
       "    </tr>\n",
       "    <tr>\n",
       "      <th>4</th>\n",
       "      <td>ALMA_pix_size (arcsec)</td>\n",
       "      <td>0.3</td>\n",
       "      <td>NaN</td>\n",
       "      <td>NaN</td>\n",
       "    </tr>\n",
       "    <tr>\n",
       "      <th>5</th>\n",
       "      <td>NaN</td>\n",
       "      <td>NaN</td>\n",
       "      <td>NaN</td>\n",
       "      <td>NaN</td>\n",
       "    </tr>\n",
       "    <tr>\n",
       "      <th>6</th>\n",
       "      <td>NaN</td>\n",
       "      <td>NaN</td>\n",
       "      <td>NaN</td>\n",
       "      <td>NaN</td>\n",
       "    </tr>\n",
       "    <tr>\n",
       "      <th>7</th>\n",
       "      <td>Must t_0, t_f must be chosen \\nIn the same ALM...</td>\n",
       "      <td>NaN</td>\n",
       "      <td>NaN</td>\n",
       "      <td>NaN</td>\n",
       "    </tr>\n",
       "    <tr>\n",
       "      <th>8</th>\n",
       "      <td>Radio_crop: were chosen so that it had\\nA larg...</td>\n",
       "      <td>NaN</td>\n",
       "      <td>NaN</td>\n",
       "      <td>NaN</td>\n",
       "    </tr>\n",
       "  </tbody>\n",
       "</table>\n",
       "</div>"
      ],
      "text/plain": [
       "                                                ALMA  Unnamed: 1  \\\n",
       "0                                 Tx_helioprojective      -128.0   \n",
       "1                                 Ty_helioprojective      -400.0   \n",
       "2                                    x_size_snapshot       253.0   \n",
       "3                                    y_size_snapshot       253.0   \n",
       "4                             ALMA_pix_size (arcsec)         0.3   \n",
       "5                                                NaN         NaN   \n",
       "6                                                NaN         NaN   \n",
       "7  Must t_0, t_f must be chosen \\nIn the same ALM...         NaN   \n",
       "8  Radio_crop: were chosen so that it had\\nA larg...         NaN   \n",
       "\n",
       "                              SDO           Unnamed: 3  \n",
       "0  t_0_SDO\\n(YYYY-MM-DDTHH:MM:SS)  2018-04-12 15:35:28  \n",
       "1  t_f_SDO\\n(YYYY-MM-DDTHH:MM:SS)  2018-04-12 15:37:28  \n",
       "2                  radio_crop_sdo                68.31  \n",
       "3                             NaN                  NaN  \n",
       "4                             NaN                  NaN  \n",
       "5                             NaN                  NaN  \n",
       "6                             NaN                  NaN  \n",
       "7                             NaN                  NaN  \n",
       "8                             NaN                  NaN  "
      ]
     },
     "execution_count": 2,
     "metadata": {},
     "output_type": "execute_result"
    }
   ],
   "source": [
    "parameters= pd.read_excel('parameters.xlsx')\n",
    "parameters"
   ]
  },
  {
   "cell_type": "code",
   "execution_count": 4,
   "id": "bd0ef7a2",
   "metadata": {},
   "outputs": [
    {
     "name": "stderr",
     "output_type": "stream",
     "text": [
      "  0%|          | 0/9 [00:00<?, ?it/s]"
     ]
    },
    {
     "name": "stdout",
     "output_type": "stream",
     "text": [
      "Downloading 94 A\n",
      "Results from 1 Provider:\n",
      "\n",
      "10 Results from the VSOClient:\n",
      "Source: http://vso.stanford.edu/cgi-bin/search\n",
      "Total estimated size: 677.888 Mbyte\n",
      "\n",
      "       Start Time       ...\n",
      "                        ...\n",
      "----------------------- ...\n",
      "2018-04-12 15:35:35.000 ...\n",
      "2018-04-12 15:35:47.000 ...\n",
      "2018-04-12 15:35:59.000 ...\n",
      "2018-04-12 15:36:11.000 ...\n",
      "2018-04-12 15:36:23.000 ...\n",
      "2018-04-12 15:36:35.000 ...\n",
      "2018-04-12 15:36:47.000 ...\n",
      "2018-04-12 15:36:59.000 ...\n",
      "2018-04-12 15:37:11.000 ...\n",
      "2018-04-12 15:37:23.000 ...\n",
      "\n",
      "\n"
     ]
    },
    {
     "data": {
      "application/vnd.jupyter.widget-view+json": {
       "model_id": "a9b68063e7944d9cac16a927cc83fb95",
       "version_major": 2,
       "version_minor": 0
      },
      "text/plain": [
       "Files Downloaded:   0%|          | 0/10 [00:00<?, ?file/s]"
      ]
     },
     "metadata": {},
     "output_type": "display_data"
    },
    {
     "data": {
      "application/vnd.jupyter.widget-view+json": {
       "model_id": "e5c0d659081b44f5bfbbabad7211e14c",
       "version_major": 2,
       "version_minor": 0
      },
      "text/plain": [
       "aia_lev1_94a_2018_04_12t15_35_59_12z_image_lev1.fits:   0%|          | 0.00/6.60M [00:00<?, ?B/s]"
      ]
     },
     "metadata": {},
     "output_type": "display_data"
    },
    {
     "data": {
      "application/vnd.jupyter.widget-view+json": {
       "model_id": "5525567f521d4e8b893ce897e9f5be9c",
       "version_major": 2,
       "version_minor": 0
      },
      "text/plain": [
       "aia_lev1_94a_2018_04_12t15_35_47_12z_image_lev1.fits:   0%|          | 0.00/6.60M [00:00<?, ?B/s]"
      ]
     },
     "metadata": {},
     "output_type": "display_data"
    },
    {
     "data": {
      "application/vnd.jupyter.widget-view+json": {
       "model_id": "8e6b50301f3747929038a56a44ad4aaf",
       "version_major": 2,
       "version_minor": 0
      },
      "text/plain": [
       "aia_lev1_94a_2018_04_12t15_35_35_13z_image_lev1.fits:   0%|          | 0.00/6.60M [00:00<?, ?B/s]"
      ]
     },
     "metadata": {},
     "output_type": "display_data"
    },
    {
     "data": {
      "application/vnd.jupyter.widget-view+json": {
       "model_id": "9b427e1951944d6493a8a58bc738e82a",
       "version_major": 2,
       "version_minor": 0
      },
      "text/plain": [
       "aia_lev1_94a_2018_04_12t15_36_23_12z_image_lev1.fits:   0%|          | 0.00/6.60M [00:00<?, ?B/s]"
      ]
     },
     "metadata": {},
     "output_type": "display_data"
    },
    {
     "data": {
      "application/vnd.jupyter.widget-view+json": {
       "model_id": "00353633cacc48fc869e6807094f3150",
       "version_major": 2,
       "version_minor": 0
      },
      "text/plain": [
       "aia_lev1_94a_2018_04_12t15_36_11_12z_image_lev1.fits:   0%|          | 0.00/6.60M [00:00<?, ?B/s]"
      ]
     },
     "metadata": {},
     "output_type": "display_data"
    },
    {
     "data": {
      "application/vnd.jupyter.widget-view+json": {
       "model_id": "ee90f4468b0e494d876caac051969e7c",
       "version_major": 2,
       "version_minor": 0
      },
      "text/plain": [
       "aia_lev1_94a_2018_04_12t15_36_35_12z_image_lev1.fits:   0%|          | 0.00/6.60M [00:00<?, ?B/s]"
      ]
     },
     "metadata": {},
     "output_type": "display_data"
    },
    {
     "data": {
      "application/vnd.jupyter.widget-view+json": {
       "model_id": "4c4370cdb9244af198641b81295b897e",
       "version_major": 2,
       "version_minor": 0
      },
      "text/plain": [
       "aia_lev1_94a_2018_04_12t15_36_47_14z_image_lev1.fits:   0%|          | 0.00/6.60M [00:00<?, ?B/s]"
      ]
     },
     "metadata": {},
     "output_type": "display_data"
    },
    {
     "data": {
      "application/vnd.jupyter.widget-view+json": {
       "model_id": "bbcd2a23591249e2a0f1bdf30e02e99b",
       "version_major": 2,
       "version_minor": 0
      },
      "text/plain": [
       "aia_lev1_94a_2018_04_12t15_36_59_12z_image_lev1.fits:   0%|          | 0.00/6.60M [00:00<?, ?B/s]"
      ]
     },
     "metadata": {},
     "output_type": "display_data"
    },
    {
     "data": {
      "application/vnd.jupyter.widget-view+json": {
       "model_id": "a0c0763f7ed4406397eff1921bbd6f60",
       "version_major": 2,
       "version_minor": 0
      },
      "text/plain": [
       "aia_lev1_94a_2018_04_12t15_37_11_14z_image_lev1.fits:   0%|          | 0.00/6.60M [00:00<?, ?B/s]"
      ]
     },
     "metadata": {},
     "output_type": "display_data"
    },
    {
     "data": {
      "application/vnd.jupyter.widget-view+json": {
       "model_id": "d7c2325ee61a47f9a26e814007ab967d",
       "version_major": 2,
       "version_minor": 0
      },
      "text/plain": [
       "aia_lev1_94a_2018_04_12t15_37_23_12z_image_lev1.fits:   0%|          | 0.00/6.60M [00:00<?, ?B/s]"
      ]
     },
     "metadata": {},
     "output_type": "display_data"
    },
    {
     "name": "stdout",
     "output_type": "stream",
     "text": [
      "doing cropping\n"
     ]
    },
    {
     "name": "stderr",
     "output_type": "stream",
     "text": [
      " 11%|█         | 1/9 [00:38<05:08, 38.59s/it]"
     ]
    },
    {
     "name": "stdout",
     "output_type": "stream",
     "text": [
      "Downloading 131 A\n",
      "Results from 1 Provider:\n",
      "\n",
      "10 Results from the VSOClient:\n",
      "Source: http://vso.stanford.edu/cgi-bin/search\n",
      "Total estimated size: 677.888 Mbyte\n",
      "\n",
      "       Start Time       ...\n",
      "                        ...\n",
      "----------------------- ...\n",
      "2018-04-12 15:35:30.000 ...\n",
      "2018-04-12 15:35:42.000 ...\n",
      "2018-04-12 15:35:54.000 ...\n",
      "2018-04-12 15:36:06.000 ...\n",
      "2018-04-12 15:36:18.000 ...\n",
      "2018-04-12 15:36:30.000 ...\n",
      "2018-04-12 15:36:42.000 ...\n",
      "2018-04-12 15:36:54.000 ...\n",
      "2018-04-12 15:37:06.000 ...\n",
      "2018-04-12 15:37:18.000 ...\n",
      "\n",
      "\n"
     ]
    },
    {
     "data": {
      "application/vnd.jupyter.widget-view+json": {
       "model_id": "0f888b292bac4c329d58abdafca88a43",
       "version_major": 2,
       "version_minor": 0
      },
      "text/plain": [
       "Files Downloaded:   0%|          | 0/10 [00:00<?, ?file/s]"
      ]
     },
     "metadata": {},
     "output_type": "display_data"
    },
    {
     "data": {
      "application/vnd.jupyter.widget-view+json": {
       "model_id": "751e46fe948c4179a74a2bd5d488221e",
       "version_major": 2,
       "version_minor": 0
      },
      "text/plain": [
       "aia_lev1_131a_2018_04_12t15_36_18_62z_image_lev1.fits:   0%|          | 0.00/8.12M [00:00<?, ?B/s]"
      ]
     },
     "metadata": {},
     "output_type": "display_data"
    },
    {
     "data": {
      "application/vnd.jupyter.widget-view+json": {
       "model_id": "9b11c1cee9fc4cf48ca945ce48f9130c",
       "version_major": 2,
       "version_minor": 0
      },
      "text/plain": [
       "aia_lev1_131a_2018_04_12t15_35_30_62z_image_lev1.fits:   0%|          | 0.00/8.12M [00:00<?, ?B/s]"
      ]
     },
     "metadata": {},
     "output_type": "display_data"
    },
    {
     "data": {
      "application/vnd.jupyter.widget-view+json": {
       "model_id": "02e4dcbda72447a198713a7c216e38ea",
       "version_major": 2,
       "version_minor": 0
      },
      "text/plain": [
       "aia_lev1_131a_2018_04_12t15_36_06_63z_image_lev1.fits:   0%|          | 0.00/8.12M [00:00<?, ?B/s]"
      ]
     },
     "metadata": {},
     "output_type": "display_data"
    },
    {
     "data": {
      "application/vnd.jupyter.widget-view+json": {
       "model_id": "0125c5b6d1d047559285c1fa8c2f34a8",
       "version_major": 2,
       "version_minor": 0
      },
      "text/plain": [
       "aia_lev1_131a_2018_04_12t15_35_54_65z_image_lev1.fits:   0%|          | 0.00/8.12M [00:00<?, ?B/s]"
      ]
     },
     "metadata": {},
     "output_type": "display_data"
    },
    {
     "data": {
      "application/vnd.jupyter.widget-view+json": {
       "model_id": "85ff7c36ba434b3eb6b3d21906e3c04a",
       "version_major": 2,
       "version_minor": 0
      },
      "text/plain": [
       "aia_lev1_131a_2018_04_12t15_35_42_63z_image_lev1.fits:   0%|          | 0.00/8.12M [00:00<?, ?B/s]"
      ]
     },
     "metadata": {},
     "output_type": "display_data"
    },
    {
     "data": {
      "application/vnd.jupyter.widget-view+json": {
       "model_id": "409226f4a60e4c1f83b44bbacae25129",
       "version_major": 2,
       "version_minor": 0
      },
      "text/plain": [
       "aia_lev1_131a_2018_04_12t15_36_30_62z_image_lev1.fits:   0%|          | 0.00/8.12M [00:00<?, ?B/s]"
      ]
     },
     "metadata": {},
     "output_type": "display_data"
    },
    {
     "data": {
      "application/vnd.jupyter.widget-view+json": {
       "model_id": "86a5a72bd8204b569b42f49b3cfc6be8",
       "version_major": 2,
       "version_minor": 0
      },
      "text/plain": [
       "aia_lev1_131a_2018_04_12t15_36_42_62z_image_lev1.fits:   0%|          | 0.00/8.12M [00:00<?, ?B/s]"
      ]
     },
     "metadata": {},
     "output_type": "display_data"
    },
    {
     "data": {
      "application/vnd.jupyter.widget-view+json": {
       "model_id": "0bf461f6ff8b43a79de22fda09aee0d2",
       "version_major": 2,
       "version_minor": 0
      },
      "text/plain": [
       "aia_lev1_131a_2018_04_12t15_36_54_62z_image_lev1.fits:   0%|          | 0.00/8.12M [00:00<?, ?B/s]"
      ]
     },
     "metadata": {},
     "output_type": "display_data"
    },
    {
     "data": {
      "application/vnd.jupyter.widget-view+json": {
       "model_id": "f0989649ee2f4cb08c87c861f1e3a6f9",
       "version_major": 2,
       "version_minor": 0
      },
      "text/plain": [
       "aia_lev1_131a_2018_04_12t15_37_06_62z_image_lev1.fits:   0%|          | 0.00/8.12M [00:00<?, ?B/s]"
      ]
     },
     "metadata": {},
     "output_type": "display_data"
    },
    {
     "data": {
      "application/vnd.jupyter.widget-view+json": {
       "model_id": "58d9f314c3324b24bcaeb8b5312bad09",
       "version_major": 2,
       "version_minor": 0
      },
      "text/plain": [
       "aia_lev1_131a_2018_04_12t15_37_18_62z_image_lev1.fits:   0%|          | 0.00/8.12M [00:00<?, ?B/s]"
      ]
     },
     "metadata": {},
     "output_type": "display_data"
    },
    {
     "name": "stdout",
     "output_type": "stream",
     "text": [
      "doing cropping\n"
     ]
    },
    {
     "name": "stderr",
     "output_type": "stream",
     "text": [
      " 22%|██▏       | 2/9 [01:12<04:11, 36.00s/it]"
     ]
    },
    {
     "name": "stdout",
     "output_type": "stream",
     "text": [
      "Downloading 171 A\n",
      "Results from 1 Provider:\n",
      "\n",
      "10 Results from the VSOClient:\n",
      "Source: http://vso.stanford.edu/cgi-bin/search\n",
      "Total estimated size: 677.888 Mbyte\n",
      "\n",
      "       Start Time       ...\n",
      "                        ...\n",
      "----------------------- ...\n",
      "2018-04-12 15:35:33.000 ...\n",
      "2018-04-12 15:35:45.000 ...\n",
      "2018-04-12 15:35:57.000 ...\n",
      "2018-04-12 15:36:09.000 ...\n",
      "2018-04-12 15:36:21.000 ...\n",
      "2018-04-12 15:36:33.000 ...\n",
      "2018-04-12 15:36:45.000 ...\n",
      "2018-04-12 15:36:57.000 ...\n",
      "2018-04-12 15:37:09.000 ...\n",
      "2018-04-12 15:37:21.000 ...\n",
      "\n",
      "\n"
     ]
    },
    {
     "data": {
      "application/vnd.jupyter.widget-view+json": {
       "model_id": "e6241b02fbc04b1894f42e547d7cc5d9",
       "version_major": 2,
       "version_minor": 0
      },
      "text/plain": [
       "Files Downloaded:   0%|          | 0/10 [00:00<?, ?file/s]"
      ]
     },
     "metadata": {},
     "output_type": "display_data"
    },
    {
     "data": {
      "application/vnd.jupyter.widget-view+json": {
       "model_id": "a22cfbbf487a466abbd84c8f5b10f40b",
       "version_major": 2,
       "version_minor": 0
      },
      "text/plain": [
       "aia_lev1_171a_2018_04_12t15_35_45_35z_image_lev1.fits:   0%|          | 0.00/11.6M [00:00<?, ?B/s]"
      ]
     },
     "metadata": {},
     "output_type": "display_data"
    },
    {
     "data": {
      "application/vnd.jupyter.widget-view+json": {
       "model_id": "1a0475999225401b9c380f7e0e78563b",
       "version_major": 2,
       "version_minor": 0
      },
      "text/plain": [
       "aia_lev1_171a_2018_04_12t15_36_21_35z_image_lev1.fits:   0%|          | 0.00/11.6M [00:00<?, ?B/s]"
      ]
     },
     "metadata": {},
     "output_type": "display_data"
    },
    {
     "data": {
      "application/vnd.jupyter.widget-view+json": {
       "model_id": "ab73560ae79547db91f5f75565951abe",
       "version_major": 2,
       "version_minor": 0
      },
      "text/plain": [
       "aia_lev1_171a_2018_04_12t15_36_09_35z_image_lev1.fits:   0%|          | 0.00/11.6M [00:00<?, ?B/s]"
      ]
     },
     "metadata": {},
     "output_type": "display_data"
    },
    {
     "data": {
      "application/vnd.jupyter.widget-view+json": {
       "model_id": "0cd614bcf0cb49a5a7f4801de17954d6",
       "version_major": 2,
       "version_minor": 0
      },
      "text/plain": [
       "aia_lev1_171a_2018_04_12t15_35_57_35z_image_lev1.fits:   0%|          | 0.00/11.6M [00:00<?, ?B/s]"
      ]
     },
     "metadata": {},
     "output_type": "display_data"
    },
    {
     "data": {
      "application/vnd.jupyter.widget-view+json": {
       "model_id": "0c122430b4d14f71a3baa508dd9d11a2",
       "version_major": 2,
       "version_minor": 0
      },
      "text/plain": [
       "aia_lev1_171a_2018_04_12t15_35_33_35z_image_lev1.fits:   0%|          | 0.00/11.6M [00:00<?, ?B/s]"
      ]
     },
     "metadata": {},
     "output_type": "display_data"
    },
    {
     "data": {
      "application/vnd.jupyter.widget-view+json": {
       "model_id": "40ccb123150e4d068d7f2b4ab96a790c",
       "version_major": 2,
       "version_minor": 0
      },
      "text/plain": [
       "aia_lev1_171a_2018_04_12t15_36_33_35z_image_lev1.fits:   0%|          | 0.00/11.6M [00:00<?, ?B/s]"
      ]
     },
     "metadata": {},
     "output_type": "display_data"
    },
    {
     "data": {
      "application/vnd.jupyter.widget-view+json": {
       "model_id": "ff54bf6c1c824563b1d8c238fd59770a",
       "version_major": 2,
       "version_minor": 0
      },
      "text/plain": [
       "aia_lev1_171a_2018_04_12t15_36_45_35z_image_lev1.fits:   0%|          | 0.00/11.6M [00:00<?, ?B/s]"
      ]
     },
     "metadata": {},
     "output_type": "display_data"
    },
    {
     "data": {
      "application/vnd.jupyter.widget-view+json": {
       "model_id": "d15c8c25482746d3be33704d6f6f862d",
       "version_major": 2,
       "version_minor": 0
      },
      "text/plain": [
       "aia_lev1_171a_2018_04_12t15_36_57_35z_image_lev1.fits:   0%|          | 0.00/11.6M [00:00<?, ?B/s]"
      ]
     },
     "metadata": {},
     "output_type": "display_data"
    },
    {
     "data": {
      "application/vnd.jupyter.widget-view+json": {
       "model_id": "361ac822f92e4003899b0a6b6113d773",
       "version_major": 2,
       "version_minor": 0
      },
      "text/plain": [
       "aia_lev1_171a_2018_04_12t15_37_09_35z_image_lev1.fits:   0%|          | 0.00/11.6M [00:00<?, ?B/s]"
      ]
     },
     "metadata": {},
     "output_type": "display_data"
    },
    {
     "data": {
      "application/vnd.jupyter.widget-view+json": {
       "model_id": "2c31789f67174ec1af86095673373f20",
       "version_major": 2,
       "version_minor": 0
      },
      "text/plain": [
       "aia_lev1_171a_2018_04_12t15_37_21_35z_image_lev1.fits:   0%|          | 0.00/11.6M [00:00<?, ?B/s]"
      ]
     },
     "metadata": {},
     "output_type": "display_data"
    },
    {
     "name": "stderr",
     "output_type": "stream",
     "text": [
      " 22%|██▏       | 2/9 [02:08<07:29, 64.18s/it]\n"
     ]
    },
    {
     "ename": "KeyboardInterrupt",
     "evalue": "",
     "output_type": "error",
     "traceback": [
      "\u001b[0;31m---------------------------------------------------------------------------\u001b[0m",
      "\u001b[0;31mKeyboardInterrupt\u001b[0m                         Traceback (most recent call last)",
      "\u001b[1;32m/home/javier/Documents/MSc-program/Aligning_auto/ejecute_download.ipynb Cell 3\u001b[0m in \u001b[0;36m4\n\u001b[1;32m      <a href='vscode-notebook-cell:/home/javier/Documents/MSc-program/Aligning_auto/ejecute_download.ipynb#W2sZmlsZQ%3D%3D?line=1'>2</a>\u001b[0m Tx, Ty   \u001b[39m=\u001b[39m parameters\u001b[39m.\u001b[39miloc[\u001b[39m0\u001b[39m][\u001b[39m1\u001b[39m], parameters\u001b[39m.\u001b[39miloc[\u001b[39m1\u001b[39m][\u001b[39m1\u001b[39m]\n\u001b[1;32m      <a href='vscode-notebook-cell:/home/javier/Documents/MSc-program/Aligning_auto/ejecute_download.ipynb#W2sZmlsZQ%3D%3D?line=2'>3</a>\u001b[0m radio    \u001b[39m=\u001b[39m parameters\u001b[39m.\u001b[39miloc[\u001b[39m2\u001b[39m][\u001b[39m3\u001b[39m]\n\u001b[0;32m----> <a href='vscode-notebook-cell:/home/javier/Documents/MSc-program/Aligning_auto/ejecute_download.ipynb#W2sZmlsZQ%3D%3D?line=3'>4</a>\u001b[0m download_sdo(t_0,t_f,Tx, Ty,radio) \u001b[39m# DELTA IMPORTANTE \u001b[39;00m\n\u001b[1;32m      <a href='vscode-notebook-cell:/home/javier/Documents/MSc-program/Aligning_auto/ejecute_download.ipynb#W2sZmlsZQ%3D%3D?line=4'>5</a>\u001b[0m \u001b[39mdel\u001b[39;00m t_0, t_f, Tx, Ty, radio\n",
      "File \u001b[0;32m~/Documents/MSc-program/Aligning_auto/function_used.py:82\u001b[0m, in \u001b[0;36mdownload_sdo\u001b[0;34m(tsdo_init_dwl, tsdo_fina_dwl, Tx, Ty, aiasq)\u001b[0m\n\u001b[1;32m     80\u001b[0m file_download \u001b[39m=\u001b[39m\u001b[39msorted\u001b[39m(file_download)\n\u001b[1;32m     81\u001b[0m \u001b[39m# Load all files into a Map sequence\u001b[39;00m\n\u001b[0;32m---> 82\u001b[0m tmp \u001b[39m=\u001b[39m sunpy\u001b[39m.\u001b[39mmap\u001b[39m.\u001b[39mMap(file_download)\n\u001b[1;32m     83\u001b[0m aia_seq \u001b[39m=\u001b[39m []\n\u001b[1;32m     84\u001b[0m \u001b[39m# cropping \u001b[39;00m\n",
      "File \u001b[0;32m~/.local/lib/python3.9/site-packages/sunpy/map/map_factory.py:318\u001b[0m, in \u001b[0;36mMapFactory.__call__\u001b[0;34m(self, composite, sequence, silence_errors, *args, **kwargs)\u001b[0m\n\u001b[1;32m    292\u001b[0m \u001b[39mdef\u001b[39;00m \u001b[39m__call__\u001b[39m(\u001b[39mself\u001b[39m, \u001b[39m*\u001b[39margs, composite\u001b[39m=\u001b[39m\u001b[39mFalse\u001b[39;00m, sequence\u001b[39m=\u001b[39m\u001b[39mFalse\u001b[39;00m, silence_errors\u001b[39m=\u001b[39m\u001b[39mFalse\u001b[39;00m, \u001b[39m*\u001b[39m\u001b[39m*\u001b[39mkwargs):\n\u001b[1;32m    293\u001b[0m     \u001b[39m\"\"\" Method for running the factory. Takes arbitrary arguments and\u001b[39;00m\n\u001b[1;32m    294\u001b[0m \u001b[39m    keyword arguments and passes them to a sequence of pre-registered types\u001b[39;00m\n\u001b[1;32m    295\u001b[0m \u001b[39m    to determine which is the correct Map-type to build.\u001b[39;00m\n\u001b[0;32m   (...)\u001b[0m\n\u001b[1;32m    316\u001b[0m \u001b[39m    as `memmap` for FITS files.\u001b[39;00m\n\u001b[1;32m    317\u001b[0m \u001b[39m    \"\"\"\u001b[39;00m\n\u001b[0;32m--> 318\u001b[0m     data_header_pairs \u001b[39m=\u001b[39m \u001b[39mself\u001b[39;49m\u001b[39m.\u001b[39;49m_parse_args(\u001b[39m*\u001b[39;49margs, silence_errors\u001b[39m=\u001b[39;49msilence_errors, \u001b[39m*\u001b[39;49m\u001b[39m*\u001b[39;49mkwargs)\n\u001b[1;32m    319\u001b[0m     new_maps \u001b[39m=\u001b[39m \u001b[39mlist\u001b[39m()\n\u001b[1;32m    321\u001b[0m     \u001b[39m# Loop over each registered type and check to see if WidgetType\u001b[39;00m\n\u001b[1;32m    322\u001b[0m     \u001b[39m# matches the arguments.  If it does, use that type.\u001b[39;00m\n",
      "File \u001b[0;32m~/.local/lib/python3.9/site-packages/sunpy/map/map_factory.py:244\u001b[0m, in \u001b[0;36mMapFactory._parse_args\u001b[0;34m(self, silence_errors, *args, **kwargs)\u001b[0m\n\u001b[1;32m    242\u001b[0m \u001b[39mfor\u001b[39;00m arg \u001b[39min\u001b[39;00m args:\n\u001b[1;32m    243\u001b[0m     \u001b[39mtry\u001b[39;00m:\n\u001b[0;32m--> 244\u001b[0m         data_header_pairs \u001b[39m+\u001b[39m\u001b[39m=\u001b[39m \u001b[39mself\u001b[39;49m\u001b[39m.\u001b[39;49m_parse_arg(arg, \u001b[39m*\u001b[39;49m\u001b[39m*\u001b[39;49mkwargs)\n\u001b[1;32m    245\u001b[0m     \u001b[39mexcept\u001b[39;00m NoMapsInFileError \u001b[39mas\u001b[39;00m e:\n\u001b[1;32m    246\u001b[0m         \u001b[39mif\u001b[39;00m \u001b[39mnot\u001b[39;00m silence_errors:\n",
      "File \u001b[0;32m~/.local/lib/python3.9/site-packages/sunpy/util/functools.py:18\u001b[0m, in \u001b[0;36mseconddispatch.<locals>.wrapper\u001b[0;34m(*args, **kwargs)\u001b[0m\n\u001b[1;32m     17\u001b[0m \u001b[39mdef\u001b[39;00m \u001b[39mwrapper\u001b[39m(\u001b[39m*\u001b[39margs, \u001b[39m*\u001b[39m\u001b[39m*\u001b[39mkwargs):\n\u001b[0;32m---> 18\u001b[0m     \u001b[39mreturn\u001b[39;00m dispatcher\u001b[39m.\u001b[39;49mdispatch(args[\u001b[39m1\u001b[39;49m]\u001b[39m.\u001b[39;49m\u001b[39m__class__\u001b[39;49m)(\u001b[39m*\u001b[39;49margs, \u001b[39m*\u001b[39;49m\u001b[39m*\u001b[39;49mkwargs)\n",
      "File \u001b[0;32m~/.local/lib/python3.9/site-packages/sunpy/map/map_factory.py:290\u001b[0m, in \u001b[0;36mMapFactory._parse_path\u001b[0;34m(self, arg, **kwargs)\u001b[0m\n\u001b[1;32m    288\u001b[0m \u001b[39m@_parse_arg\u001b[39m\u001b[39m.\u001b[39mregister(pathlib\u001b[39m.\u001b[39mPath)\n\u001b[1;32m    289\u001b[0m \u001b[39mdef\u001b[39;00m \u001b[39m_parse_path\u001b[39m(\u001b[39mself\u001b[39m, arg, \u001b[39m*\u001b[39m\u001b[39m*\u001b[39mkwargs):\n\u001b[0;32m--> 290\u001b[0m     \u001b[39mreturn\u001b[39;00m parse_path(arg, \u001b[39mself\u001b[39;49m\u001b[39m.\u001b[39;49m_read_file, \u001b[39m*\u001b[39;49m\u001b[39m*\u001b[39;49mkwargs)\n",
      "File \u001b[0;32m~/.local/lib/python3.9/site-packages/sunpy/util/io.py:28\u001b[0m, in \u001b[0;36mparse_path\u001b[0;34m(path, f, **kwargs)\u001b[0m\n\u001b[1;32m     26\u001b[0m path \u001b[39m=\u001b[39m path\u001b[39m.\u001b[39mexpanduser()\n\u001b[1;32m     27\u001b[0m \u001b[39mif\u001b[39;00m is_file(path):\n\u001b[0;32m---> 28\u001b[0m     \u001b[39mreturn\u001b[39;00m f(path, \u001b[39m*\u001b[39;49m\u001b[39m*\u001b[39;49mkwargs)\n\u001b[1;32m     29\u001b[0m \u001b[39melif\u001b[39;00m is_dir(path):\n\u001b[1;32m     30\u001b[0m     read_files \u001b[39m=\u001b[39m []\n",
      "File \u001b[0;32m~/.local/lib/python3.9/site-packages/sunpy/map/map_factory.py:161\u001b[0m, in \u001b[0;36mMapFactory._read_file\u001b[0;34m(self, fname, **kwargs)\u001b[0m\n\u001b[1;32m    159\u001b[0m log\u001b[39m.\u001b[39mdebug(\u001b[39mf\u001b[39m\u001b[39m'\u001b[39m\u001b[39mReading \u001b[39m\u001b[39m{\u001b[39;00mfname\u001b[39m}\u001b[39;00m\u001b[39m'\u001b[39m)\n\u001b[1;32m    160\u001b[0m \u001b[39mtry\u001b[39;00m:\n\u001b[0;32m--> 161\u001b[0m     pairs \u001b[39m=\u001b[39m read_file(os\u001b[39m.\u001b[39;49mfspath(fname), \u001b[39m*\u001b[39;49m\u001b[39m*\u001b[39;49mkwargs)\n\u001b[1;32m    162\u001b[0m \u001b[39mexcept\u001b[39;00m \u001b[39mException\u001b[39;00m \u001b[39mas\u001b[39;00m e:\n\u001b[1;32m    163\u001b[0m     msg \u001b[39m=\u001b[39m \u001b[39mf\u001b[39m\u001b[39m\"\u001b[39m\u001b[39mFailed to read \u001b[39m\u001b[39m{\u001b[39;00mfname\u001b[39m}\u001b[39;00m\u001b[39m.\u001b[39m\u001b[39m\"\u001b[39m\n",
      "File \u001b[0;32m~/.local/lib/python3.9/site-packages/sunpy/io/file_tools.py:87\u001b[0m, in \u001b[0;36mread_file\u001b[0;34m(filepath, filetype, **kwargs)\u001b[0m\n\u001b[1;32m     85\u001b[0m \u001b[39mfor\u001b[39;00m extension, readername \u001b[39min\u001b[39;00m _known_extensions\u001b[39m.\u001b[39mitems():\n\u001b[1;32m     86\u001b[0m     \u001b[39mif\u001b[39;00m filepath\u001b[39m.\u001b[39mendswith(extension) \u001b[39mor\u001b[39;00m filetype \u001b[39min\u001b[39;00m extension:\n\u001b[0;32m---> 87\u001b[0m         \u001b[39mreturn\u001b[39;00m _readers[readername]\u001b[39m.\u001b[39;49mread(filepath, \u001b[39m*\u001b[39;49m\u001b[39m*\u001b[39;49mkwargs)\n\u001b[1;32m     89\u001b[0m \u001b[39m# If filetype is not apparent from the extension, attempt to detect it\u001b[39;00m\n\u001b[1;32m     90\u001b[0m readername \u001b[39m=\u001b[39m _detect_filetype(filepath)\n",
      "File \u001b[0;32m~/.local/lib/python3.9/site-packages/sunpy/io/_fits.py:101\u001b[0m, in \u001b[0;36mread\u001b[0;34m(filepath, hdus, memmap, **kwargs)\u001b[0m\n\u001b[1;32m     99\u001b[0m                 message \u001b[39m+\u001b[39m\u001b[39m=\u001b[39m \u001b[39m'\u001b[39m\u001b[39m\\n\u001b[39;00m\u001b[39m'\u001b[39m\n\u001b[1;32m    100\u001b[0m             message \u001b[39m+\u001b[39m\u001b[39m=\u001b[39m \u001b[39mrepr\u001b[39m(e)\n\u001b[0;32m--> 101\u001b[0m             warn_user(message)\n\u001b[1;32m    103\u001b[0m \u001b[39mreturn\u001b[39;00m pairs\n",
      "File \u001b[0;32m~/.local/lib/python3.9/site-packages/astropy/io/fits/hdu/hdulist.py:396\u001b[0m, in \u001b[0;36mHDUList.__exit__\u001b[0;34m(self, type, value, traceback)\u001b[0m\n\u001b[1;32m    394\u001b[0m \u001b[39mdef\u001b[39;00m \u001b[39m__exit__\u001b[39m(\u001b[39mself\u001b[39m, \u001b[39mtype\u001b[39m, value, traceback):\n\u001b[1;32m    395\u001b[0m     output_verify \u001b[39m=\u001b[39m \u001b[39mself\u001b[39m\u001b[39m.\u001b[39m_open_kwargs\u001b[39m.\u001b[39mget(\u001b[39m'\u001b[39m\u001b[39moutput_verify\u001b[39m\u001b[39m'\u001b[39m, \u001b[39m'\u001b[39m\u001b[39mexception\u001b[39m\u001b[39m'\u001b[39m)\n\u001b[0;32m--> 396\u001b[0m     \u001b[39mself\u001b[39;49m\u001b[39m.\u001b[39;49mclose(output_verify\u001b[39m=\u001b[39;49moutput_verify)\n",
      "File \u001b[0;32m~/.local/lib/python3.9/site-packages/astropy/io/fits/hdu/hdulist.py:985\u001b[0m, in \u001b[0;36mHDUList.close\u001b[0;34m(self, output_verify, verbose, closed)\u001b[0m\n\u001b[1;32m    983\u001b[0m \u001b[39m# Give individual HDUs an opportunity to do on-close cleanup\u001b[39;00m\n\u001b[1;32m    984\u001b[0m \u001b[39mfor\u001b[39;00m hdu \u001b[39min\u001b[39;00m \u001b[39mself\u001b[39m:\n\u001b[0;32m--> 985\u001b[0m     hdu\u001b[39m.\u001b[39;49m_close(closed\u001b[39m=\u001b[39;49mclosed)\n",
      "File \u001b[0;32m~/.local/lib/python3.9/site-packages/astropy/io/fits/hdu/compressed.py:1901\u001b[0m, in \u001b[0;36mCompImageHDU._close\u001b[0;34m(self, closed)\u001b[0m\n\u001b[1;32m   1898\u001b[0m \u001b[39m# Also make sure to close access to the compressed data mmaps\u001b[39;00m\n\u001b[1;32m   1899\u001b[0m \u001b[39mif\u001b[39;00m (closed \u001b[39mand\u001b[39;00m \u001b[39mself\u001b[39m\u001b[39m.\u001b[39m_data_loaded \u001b[39mand\u001b[39;00m\n\u001b[1;32m   1900\u001b[0m         _get_array_mmap(\u001b[39mself\u001b[39m\u001b[39m.\u001b[39mcompressed_data) \u001b[39mis\u001b[39;00m \u001b[39mnot\u001b[39;00m \u001b[39mNone\u001b[39;00m):\n\u001b[0;32m-> 1901\u001b[0m     \u001b[39mdel\u001b[39;00m \u001b[39mself\u001b[39m\u001b[39m.\u001b[39mcompressed_data\n",
      "File \u001b[0;32m~/.local/lib/python3.9/site-packages/astropy/utils/decorators.py:806\u001b[0m, in \u001b[0;36mlazyproperty.__delete__\u001b[0;34m(self, obj)\u001b[0m\n\u001b[1;32m    804\u001b[0m \u001b[39mdef\u001b[39;00m \u001b[39m__delete__\u001b[39m(\u001b[39mself\u001b[39m, obj):\n\u001b[1;32m    805\u001b[0m     \u001b[39mif\u001b[39;00m \u001b[39mself\u001b[39m\u001b[39m.\u001b[39mfdel:\n\u001b[0;32m--> 806\u001b[0m         \u001b[39mself\u001b[39;49m\u001b[39m.\u001b[39;49mfdel(obj)\n\u001b[1;32m    807\u001b[0m     obj\u001b[39m.\u001b[39m\u001b[39m__dict__\u001b[39m\u001b[39m.\u001b[39mpop(\u001b[39mself\u001b[39m\u001b[39m.\u001b[39m_key, \u001b[39mNone\u001b[39;00m)\n",
      "File \u001b[0;32m~/.local/lib/python3.9/site-packages/astropy/io/fits/hdu/compressed.py:1479\u001b[0m, in \u001b[0;36mCompImageHDU.compressed_data\u001b[0;34m(self)\u001b[0m\n\u001b[1;32m   1473\u001b[0m \u001b[39mdel\u001b[39;00m \u001b[39mself\u001b[39m\u001b[39m.\u001b[39m\u001b[39m__dict__\u001b[39m[\u001b[39m'\u001b[39m\u001b[39mcompressed_data\u001b[39m\u001b[39m'\u001b[39m]\n\u001b[1;32m   1475\u001b[0m \u001b[39m# If this file was mmap'd, numpy.memmap will hold open a file\u001b[39;00m\n\u001b[1;32m   1476\u001b[0m \u001b[39m# handle until the underlying mmap object is garbage-collected;\u001b[39;00m\n\u001b[1;32m   1477\u001b[0m \u001b[39m# since this reference leak can sometimes hang around longer than\u001b[39;00m\n\u001b[1;32m   1478\u001b[0m \u001b[39m# welcome go ahead and force a garbage collection\u001b[39;00m\n\u001b[0;32m-> 1479\u001b[0m gc\u001b[39m.\u001b[39;49mcollect()\n",
      "\u001b[0;31mKeyboardInterrupt\u001b[0m: "
     ]
    }
   ],
   "source": [
    "t_0, t_f = parameters.iloc[0][3], parameters.iloc[1][3]\n",
    "Tx, Ty   = parameters.iloc[0][1], parameters.iloc[1][1]\n",
    "radio    = parameters.iloc[2][3]\n",
    "download_sdo(t_0,t_f,Tx, Ty,radio) # DELTA IMPORTANTE \n",
    "del t_0, t_f, Tx, Ty, radio"
   ]
  }
 ],
 "metadata": {
  "kernelspec": {
   "display_name": "Python 3 (ipykernel)",
   "language": "python",
   "name": "python3"
  },
  "language_info": {
   "codemirror_mode": {
    "name": "ipython",
    "version": 3
   },
   "file_extension": ".py",
   "mimetype": "text/x-python",
   "name": "python",
   "nbconvert_exporter": "python",
   "pygments_lexer": "ipython3",
   "version": "3.9.13"
  },
  "vscode": {
   "interpreter": {
    "hash": "a677eee07fae7a05dc0065b321405b89ac79028a918e58c71b412840ee16c11e"
   }
  }
 },
 "nbformat": 4,
 "nbformat_minor": 5
}

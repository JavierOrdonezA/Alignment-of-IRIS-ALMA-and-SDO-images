{
 "cells": [
  {
   "cell_type": "code",
   "execution_count": 3,
   "id": "ef8aeab6-8288-4043-a6a1-729d6c5668ba",
   "metadata": {
    "tags": []
   },
   "outputs": [],
   "source": [
    "import glob \n",
    "import os \n",
    "from astropy.io import fits\n",
    "import matplotlib.pyplot as plt\n",
    "import numpy as np \n",
    "from datetime import datetime , date\n",
    "from tqdm import tqdm"
   ]
  },
  {
   "cell_type": "code",
   "execution_count": 4,
   "id": "a2262a50-e8c8-416c-b07d-a4219bc41b7b",
   "metadata": {},
   "outputs": [],
   "source": [
    "def create_data_cube( path_img_crop, intrument):\n",
    "    \"\"\"\n",
    "    This function create a date cube SDO AIA\n",
    "\n",
    "    Last modified: Ordoñez Araujo, FJ  19.08.2022\n",
    "    ------inputs----\n",
    "    path_img     : it's the path where is the SDO image\n",
    "    path_img_crop: it's the path where is the cropped SDO image\n",
    "    \n",
    "    intrument: this variable could be 'AIA' or 'HMI'\n",
    "    and is necesary to differences on headers \n",
    "    -----outputs----\n",
    "    data cube where its components is:\n",
    "    \n",
    "    data_cubo    :  data cube builed with SDO image  cropped \n",
    "    data_time_utc:  data_OBS of whole image  in forma %Y-%m-%dT%H:%M:%S.%f\n",
    "    _______________________________________________________________________________________________________________\n",
    "    WARNING:, ALL matrixs in the vector (data cube) should has the same shape, in general \n",
    "    when we do  the crop using sunpy this this will not be.\n",
    "    when all the arrays in the data cube do not have the same shape you will have \n",
    "    problems trying to convert the list to an array . The error (likes, ValueError: could not \n",
    "    broadcast input array from shape (453,452) into shape (453,)) you will get was \n",
    "    reported in \n",
    "    url : https://stackoverflow.com/questions/43977463/valueerror-could-not-broadcast-input-array-from-shape-224-224-3-into-shape-2\n",
    "    ______________________________________________________________________________________________________________\n",
    "    \"\"\"\n",
    "    intrument=intrument.lower()\n",
    "\n",
    "    cubo_image_crop  = [] #cube of image crop\n",
    "    date_OBS         = [] # data obs\n",
    "    \n",
    "    x_image_crop     = sorted(glob.glob(path_img_crop)) # of SDO image cropped\n",
    "\n",
    "    #-----------------Creating a date cube------------------------\n",
    "    \"\"\"\n",
    "     It necesary considere two case becasuse the DATE-OBS in HMI has \n",
    "     another format ('2018-04-12T15:45:31.700001Z') that  AIA \n",
    "     DATE-OBS ('2018-04-12T15:45:28.84') \n",
    "    \"\"\"\n",
    "    date_format = \"%Y-%m-%dT%H:%M:%S.%f\"\n",
    "    \n",
    "    if intrument=='hmi':\n",
    "        print('|------Doing HMI cubic------|')\n",
    "        for i in tqdm(range(0,len(x_image_crop),1)):\n",
    "            cubo_image_crop.append(fits.open(x_image_crop[i])[0].data)\n",
    "            time_1=fits.open(x_image_crop[i])[0].header['DATE-OBS'][0:-1]\n",
    "            date_OBS.append(datetime.strptime(time_1, date_format))\n",
    "\n",
    "\n",
    "    if intrument=='aia':\n",
    "        print('|------Doing AIA cubic------|')\n",
    "        for i in tqdm(range(0,len(x_image_crop),1)):\n",
    "            cubo_image_crop.append(fits.open(x_image_crop[i])[0].data) \n",
    "            time_1 =fits.open(x_image_crop[i])[0].header['DATE-OBS']\n",
    "            date_OBS.append(datetime.strptime(time_1, date_format))\n",
    "    \n",
    "    return np.array(cubo_image_crop), np.array(date_OBS) \n",
    "    #return cubo_image_crop, np.array(date_OBS) "
   ]
  },
  {
   "cell_type": "code",
   "execution_count": 5,
   "id": "862b106b",
   "metadata": {},
   "outputs": [
    {
     "name": "stdout",
     "output_type": "stream",
     "text": [
      "|------Doing AIA cubic------|\n"
     ]
    },
    {
     "name": "stderr",
     "output_type": "stream",
     "text": [
      "100%|██████████| 275/275 [00:01<00:00, 218.07it/s]\n"
     ]
    }
   ],
   "source": [
    "data_cube, time_vec = create_data_cube('/home/javier/Documents/MSc-program/SDO_DATA_ALIGNIING/SDO/171/crop_and_rotate/*.fits', 'aia')\n",
    "\n",
    "plt.imshow(data_cube[0])\n",
    "data_cube.shape"
   ]
  },
  {
   "cell_type": "code",
   "execution_count": 13,
   "id": "f7b07dee",
   "metadata": {},
   "outputs": [],
   "source": [
    "os.system('mkdir SDO_data_cubic')\n",
    "saving_cubo_AIA_MAGT    = np.save('SDO_data_cubic/aia_304_cube'         , data_cube, allow_pickle=True)\n",
    "saving_cubo_AIA_timeUTC = np.save('SDO_data_cubic/aia_304_cube_time_vec', time_vec ,  allow_pickle=True)        \n"
   ]
  },
  {
   "cell_type": "markdown",
   "id": "501c9d3b",
   "metadata": {},
   "source": [
    "##  Saving data cube of crop the SDO images without rotating"
   ]
  },
  {
   "cell_type": "code",
   "execution_count": 8,
   "id": "99ca009e-7049-41b3-bf60-93329bffee10",
   "metadata": {
    "tags": []
   },
   "outputs": [
    {
     "name": "stdout",
     "output_type": "stream",
     "text": [
      "|------Doing AIA cubic------|\n"
     ]
    },
    {
     "name": "stderr",
     "output_type": "stream",
     "text": [
      "100%|██████████| 349/349 [00:01<00:00, 226.82it/s]\n",
      "/tmp/ipykernel_49063/1722308967.py:61: VisibleDeprecationWarning: Creating an ndarray from ragged nested sequences (which is a list-or-tuple of lists-or-tuples-or ndarrays with different lengths or shapes) is deprecated. If you meant to do this, you must specify 'dtype=object' when creating the ndarray.\n",
      "  return np.array(cubo_image_crop), np.array(date_OBS)\n"
     ]
    },
    {
     "name": "stdout",
     "output_type": "stream",
     "text": [
      "|------Doing AIA cubic------|\n"
     ]
    },
    {
     "name": "stderr",
     "output_type": "stream",
     "text": [
      "100%|██████████| 275/275 [00:01<00:00, 222.50it/s]\n"
     ]
    },
    {
     "name": "stdout",
     "output_type": "stream",
     "text": [
      "|------Doing AIA cubic------|\n"
     ]
    },
    {
     "name": "stderr",
     "output_type": "stream",
     "text": [
      "100%|██████████| 275/275 [00:01<00:00, 223.50it/s]\n"
     ]
    },
    {
     "name": "stdout",
     "output_type": "stream",
     "text": [
      "|------Doing AIA cubic------|\n"
     ]
    },
    {
     "name": "stderr",
     "output_type": "stream",
     "text": [
      "100%|██████████| 275/275 [00:01<00:00, 231.98it/s]\n"
     ]
    },
    {
     "name": "stdout",
     "output_type": "stream",
     "text": [
      "|------Doing AIA cubic------|\n"
     ]
    },
    {
     "name": "stderr",
     "output_type": "stream",
     "text": [
      "100%|██████████| 275/275 [00:01<00:00, 224.47it/s]\n"
     ]
    },
    {
     "name": "stdout",
     "output_type": "stream",
     "text": [
      "|------Doing AIA cubic------|\n"
     ]
    },
    {
     "name": "stderr",
     "output_type": "stream",
     "text": [
      "100%|██████████| 275/275 [00:01<00:00, 219.40it/s]\n"
     ]
    },
    {
     "name": "stdout",
     "output_type": "stream",
     "text": [
      "|------Doing AIA cubic------|\n"
     ]
    },
    {
     "name": "stderr",
     "output_type": "stream",
     "text": [
      "100%|██████████| 274/274 [00:01<00:00, 219.38it/s]\n"
     ]
    },
    {
     "name": "stdout",
     "output_type": "stream",
     "text": [
      "|------Doing AIA cubic------|\n"
     ]
    },
    {
     "name": "stderr",
     "output_type": "stream",
     "text": [
      "100%|██████████| 137/137 [00:00<00:00, 226.02it/s]\n"
     ]
    },
    {
     "name": "stdout",
     "output_type": "stream",
     "text": [
      "|------Doing AIA cubic------|\n"
     ]
    },
    {
     "name": "stderr",
     "output_type": "stream",
     "text": [
      "100%|██████████| 136/136 [00:00<00:00, 225.27it/s]\n"
     ]
    },
    {
     "name": "stdout",
     "output_type": "stream",
     "text": [
      "|------Doing HMI cubic------|\n"
     ]
    },
    {
     "name": "stderr",
     "output_type": "stream",
     "text": [
      "  0%|          | 0/73 [00:00<?, ?it/s]WARNING: VerifyWarning: Invalid 'BLANK' keyword in header.  The 'BLANK' keyword is only applicable to integer data, and will be ignored in this HDU. [astropy.io.fits.hdu.image]\n",
      "100%|██████████| 73/73 [00:00<00:00, 284.00it/s]\n"
     ]
    }
   ],
   "source": [
    "wl=[94,131,171,193,211,304,335,1600,1700]\n",
    "# ------------------Remenber--------------------------- \n",
    "# path_img      : it's the path where is the SDO image\n",
    "# path_img_crop : it's the path where is the cropped SDO image\n",
    "os.system('mkdir SDO_data_cubic')\n",
    "for i in range(len(wl)):\n",
    "    path_1 = '/home/javier/Documents/MSc-program/SDO_DATA_ALIGNIING/SDO/{}/crop_and_rotate/*.fits'.format(wl[i])\n",
    "    x , y  = create_data_cube(path_1, 'AIA')\n",
    "    #plt.figure()\n",
    "    #plt.imshow(x[0][0]),plt.colorbar()\n",
    "    #plt.title('AIA {}'.format(wl[i]))\n",
    "    np.save('SDO_data_cubic/cuboAIA{}'.format(wl[i])          , x , allow_pickle=True)\n",
    "    np.save('SDO_data_cubic/cuboAIA_timeUTC_{}'.format(wl[i]) , y , allow_pickle=True)\n",
    "# HMI DATA     \n",
    "path_mag  = '/home/javier/Documents/MSc-program/SDO_DATA_ALIGNIING/SDO/{}'  \n",
    "data_cuboHMI_MAGT, time_mag_hmi            = create_data_cube(path_mag.format(\"magt/crop/*.fits\"), 'HMI')\n",
    "saving_cuboHMI_MAGT         = np.save('SDO_data_cubic/cuboHMI_MAGT'          , data_cuboHMI_MAGT, allow_pickle=True)\n",
    "saving_cuboHMI_MAGT_timeUTC = np.save('SDO_data_cubic/cuboHMI_MAGT_timeUTC'  , time_mag_hmi,  allow_pickle=True)"
   ]
  },
  {
   "cell_type": "code",
   "execution_count": 4,
   "id": "b3e268e7-4582-42ef-9caa-c32683be663b",
   "metadata": {},
   "outputs": [],
   "source": [
    "load_cuboAIA304  = np.load('SDO_data_cubic/cuboAIA304.npy'  ,allow_pickle=True)\n",
    "load_cuboAIA1600 = np.load('SDO_data_cubic/cuboAIA1600.npy' ,allow_pickle=True)\n",
    "load_cuboAIA1700 = np.load('SDO_data_cubic/cuboAIA1700.npy' ,allow_pickle=True)\n",
    "load_cuboAIAMAGT = np.load('SDO_data_cubic/cuboHMI_MAGT.npy' ,allow_pickle=True)\n"
   ]
  }
 ],
 "metadata": {
  "kernelspec": {
   "display_name": "Python 3 (ipykernel)",
   "language": "python",
   "name": "python3"
  },
  "language_info": {
   "codemirror_mode": {
    "name": "ipython",
    "version": 3
   },
   "file_extension": ".py",
   "mimetype": "text/x-python",
   "name": "python",
   "nbconvert_exporter": "python",
   "pygments_lexer": "ipython3",
   "version": "3.9.13"
  },
  "vscode": {
   "interpreter": {
    "hash": "a677eee07fae7a05dc0065b321405b89ac79028a918e58c71b412840ee16c11e"
   }
  }
 },
 "nbformat": 4,
 "nbformat_minor": 5
}
